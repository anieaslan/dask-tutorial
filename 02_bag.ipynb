{
 "cells": [
  {
   "cell_type": "markdown",
   "metadata": {},
   "source": [
    "<img src=\"images/dask_horizontal.svg\" align=\"right\" width=\"30%\">"
   ]
  },
  {
   "cell_type": "markdown",
   "metadata": {},
   "source": [
    "# Bag: Parallel Lists for semi-structured data"
   ]
  },
  {
   "cell_type": "markdown",
   "metadata": {},
   "source": [
    "Dask-bag excels in processing data that can be represented as a sequence of arbitrary inputs. We'll refer to this as \"messy\" data, because it can contain complex nested structures, missing fields, mixtures of data types, etc. The *functional* programming style fits very nicely with standard Python iteration, such as can be found in the `itertools` module.\n",
    "\n",
    "Messy data is often encountered at the beginning of data processing pipelines when large volumes of raw data are first consumed. The initial set of data might be JSON, CSV, XML, or any other format that does not enforce strict structure and datatypes.\n",
    "For this reason, the initial data massaging and processing is often done with Python `list`s, `dict`s, and `set`s.\n",
    "\n",
    "These core data structures are optimized for general-purpose storage and processing.  Adding streaming computation with iterators/generator expressions or libraries like `itertools` or [`toolz`](https://toolz.readthedocs.io/en/latest/) let us process large volumes in a small space.  If we combine this with parallel processing then we can churn through a fair amount of data.\n",
    "\n",
    "Dask.bag is a high level Dask collection to automate common workloads of this form.  In a nutshell\n",
    "\n",
    "    dask.bag = map, filter, toolz + parallel execution\n",
    "    \n",
    "**Related Documentation**\n",
    "\n",
    "* [Bag documentation](https://docs.dask.org/en/latest/bag.html)\n",
    "* [Bag screencast](https://youtu.be/-qIiJ1XtSv0)\n",
    "* [Bag API](https://docs.dask.org/en/latest/bag-api.html)\n",
    "* [Bag examples](https://examples.dask.org/bag.html)"
   ]
  },
  {
   "cell_type": "markdown",
   "metadata": {},
   "source": [
    "## Create data"
   ]
  },
  {
   "cell_type": "code",
   "execution_count": 1,
   "metadata": {},
   "outputs": [],
   "source": [
    "%run prep.py -d accounts"
   ]
  },
  {
   "cell_type": "markdown",
   "metadata": {},
   "source": [
    "## Setup"
   ]
  },
  {
   "cell_type": "markdown",
   "metadata": {},
   "source": [
    "Again, we'll use the distributed scheduler. Schedulers will be explained in depth [later](05_distributed.ipynb)."
   ]
  },
  {
   "cell_type": "code",
   "execution_count": 2,
   "metadata": {},
   "outputs": [],
   "source": [
    "from dask.distributed import Client\n",
    "\n",
    "client = Client(n_workers=4)"
   ]
  },
  {
   "cell_type": "markdown",
   "metadata": {},
   "source": [
    "## Creation"
   ]
  },
  {
   "cell_type": "markdown",
   "metadata": {},
   "source": [
    "You can create a `Bag` from a Python sequence, from files, from data on S3, etc.\n",
    "We demonstrate using `.take()` to show elements of the data. (Doing `.take(1)` results in a tuple with one element)\n",
    "\n",
    "Note that the data are partitioned into blocks, and there are many items per block. In the first example, the two partitions contain five elements each, and in the following two, each file is partitioned into one or more bytes blocks."
   ]
  },
  {
   "cell_type": "code",
   "execution_count": 3,
   "metadata": {},
   "outputs": [
    {
     "data": {
      "text/plain": [
       "(1, 2, 3)"
      ]
     },
     "execution_count": 3,
     "metadata": {},
     "output_type": "execute_result"
    }
   ],
   "source": [
    "# each element is an integer\n",
    "import dask.bag as db\n",
    "b = db.from_sequence([1, 2, 3, 4, 5, 6, 7, 8, 9, 10], npartitions=2)\n",
    "b.take(3)"
   ]
  },
  {
   "cell_type": "code",
   "execution_count": 4,
   "metadata": {},
   "outputs": [
    {
     "data": {
      "text/plain": [
       "('{\"id\": 0, \"name\": \"Ray\", \"transactions\": [{\"transaction-id\": 302, \"amount\": 5842}, {\"transaction-id\": 813, \"amount\": 6482}, {\"transaction-id\": 1180, \"amount\": 6443}, {\"transaction-id\": 2623, \"amount\": 6594}, {\"transaction-id\": 5001, \"amount\": 6184}, {\"transaction-id\": 5345, \"amount\": 6060}, {\"transaction-id\": 5529, \"amount\": 6338}, {\"transaction-id\": 7978, \"amount\": 6329}, {\"transaction-id\": 8685, \"amount\": 6125}, {\"transaction-id\": 8996, \"amount\": 5970}, {\"transaction-id\": 11324, \"amount\": 6135}, {\"transaction-id\": 11814, \"amount\": 5913}, {\"transaction-id\": 14294, \"amount\": 6041}, {\"transaction-id\": 14565, \"amount\": 5820}, {\"transaction-id\": 16220, \"amount\": 6363}, {\"transaction-id\": 17117, \"amount\": 5849}, {\"transaction-id\": 17326, \"amount\": 6105}, {\"transaction-id\": 18129, \"amount\": 6169}, {\"transaction-id\": 18206, \"amount\": 6578}, {\"transaction-id\": 19383, \"amount\": 6666}, {\"transaction-id\": 21854, \"amount\": 6394}, {\"transaction-id\": 22461, \"amount\": 6153}, {\"transaction-id\": 23109, \"amount\": 6161}, {\"transaction-id\": 23295, \"amount\": 5979}, {\"transaction-id\": 23555, \"amount\": 6069}, {\"transaction-id\": 23943, \"amount\": 6038}, {\"transaction-id\": 24142, \"amount\": 6418}, {\"transaction-id\": 25051, \"amount\": 5984}, {\"transaction-id\": 25582, \"amount\": 6515}, {\"transaction-id\": 26201, \"amount\": 6015}, {\"transaction-id\": 26417, \"amount\": 6295}, {\"transaction-id\": 26547, \"amount\": 5959}, {\"transaction-id\": 27657, \"amount\": 5793}, {\"transaction-id\": 27700, \"amount\": 5880}, {\"transaction-id\": 29027, \"amount\": 6089}, {\"transaction-id\": 29071, \"amount\": 6068}, {\"transaction-id\": 30170, \"amount\": 6280}, {\"transaction-id\": 30324, \"amount\": 5917}, {\"transaction-id\": 31435, \"amount\": 6154}, {\"transaction-id\": 31448, \"amount\": 6485}, {\"transaction-id\": 33160, \"amount\": 6341}, {\"transaction-id\": 34401, \"amount\": 6100}, {\"transaction-id\": 34468, \"amount\": 5860}, {\"transaction-id\": 34510, \"amount\": 6305}, {\"transaction-id\": 34537, \"amount\": 6149}, {\"transaction-id\": 34775, \"amount\": 6189}, {\"transaction-id\": 34837, \"amount\": 6553}, {\"transaction-id\": 35220, \"amount\": 6254}, {\"transaction-id\": 35480, \"amount\": 5920}, {\"transaction-id\": 35884, \"amount\": 6393}, {\"transaction-id\": 36015, \"amount\": 5986}, {\"transaction-id\": 36136, \"amount\": 6178}, {\"transaction-id\": 36333, \"amount\": 6085}, {\"transaction-id\": 36627, \"amount\": 5774}, {\"transaction-id\": 37232, \"amount\": 5979}, {\"transaction-id\": 37414, \"amount\": 6309}, {\"transaction-id\": 37675, \"amount\": 5728}, {\"transaction-id\": 38486, \"amount\": 5951}, {\"transaction-id\": 38616, \"amount\": 6171}, {\"transaction-id\": 38673, \"amount\": 5706}, {\"transaction-id\": 39111, \"amount\": 5696}, {\"transaction-id\": 39693, \"amount\": 6054}, {\"transaction-id\": 39765, \"amount\": 5566}, {\"transaction-id\": 39832, \"amount\": 6390}, {\"transaction-id\": 40184, \"amount\": 6517}, {\"transaction-id\": 42022, \"amount\": 5662}, {\"transaction-id\": 43472, \"amount\": 5633}, {\"transaction-id\": 44636, \"amount\": 5816}, {\"transaction-id\": 44980, \"amount\": 6413}, {\"transaction-id\": 45917, \"amount\": 6087}, {\"transaction-id\": 46266, \"amount\": 6090}, {\"transaction-id\": 46758, \"amount\": 6132}, {\"transaction-id\": 46845, \"amount\": 5882}, {\"transaction-id\": 47631, \"amount\": 5656}, {\"transaction-id\": 49594, \"amount\": 5917}, {\"transaction-id\": 49887, \"amount\": 5949}, {\"transaction-id\": 51372, \"amount\": 6156}, {\"transaction-id\": 51461, \"amount\": 5874}, {\"transaction-id\": 51828, \"amount\": 6120}, {\"transaction-id\": 52671, \"amount\": 6329}, {\"transaction-id\": 53712, \"amount\": 6256}, {\"transaction-id\": 53718, \"amount\": 5756}, {\"transaction-id\": 55501, \"amount\": 6315}, {\"transaction-id\": 55653, \"amount\": 5735}, {\"transaction-id\": 56720, \"amount\": 5578}, {\"transaction-id\": 61520, \"amount\": 6042}, {\"transaction-id\": 61925, \"amount\": 5902}, {\"transaction-id\": 61946, \"amount\": 6136}, {\"transaction-id\": 62529, \"amount\": 6283}, {\"transaction-id\": 63066, \"amount\": 5997}, {\"transaction-id\": 63222, \"amount\": 6539}, {\"transaction-id\": 63679, \"amount\": 6014}, {\"transaction-id\": 63948, \"amount\": 6338}, {\"transaction-id\": 64018, \"amount\": 6152}, {\"transaction-id\": 64332, \"amount\": 6101}, {\"transaction-id\": 64334, \"amount\": 6365}, {\"transaction-id\": 65694, \"amount\": 5427}, {\"transaction-id\": 65788, \"amount\": 6575}, {\"transaction-id\": 66033, \"amount\": 6846}, {\"transaction-id\": 67358, \"amount\": 6300}, {\"transaction-id\": 67798, \"amount\": 6066}, {\"transaction-id\": 69256, \"amount\": 6374}, {\"transaction-id\": 70264, \"amount\": 6172}, {\"transaction-id\": 70436, \"amount\": 5914}, {\"transaction-id\": 71872, \"amount\": 6143}, {\"transaction-id\": 72309, \"amount\": 6709}, {\"transaction-id\": 72407, \"amount\": 6009}, {\"transaction-id\": 72893, \"amount\": 6361}, {\"transaction-id\": 73075, \"amount\": 6441}, {\"transaction-id\": 74286, \"amount\": 6302}, {\"transaction-id\": 74731, \"amount\": 6392}, {\"transaction-id\": 76276, \"amount\": 5918}, {\"transaction-id\": 76532, \"amount\": 6091}, {\"transaction-id\": 77734, \"amount\": 6283}, {\"transaction-id\": 79509, \"amount\": 6153}, {\"transaction-id\": 80347, \"amount\": 6221}, {\"transaction-id\": 82165, \"amount\": 5742}, {\"transaction-id\": 83002, \"amount\": 6211}, {\"transaction-id\": 84151, \"amount\": 6076}, {\"transaction-id\": 84345, \"amount\": 5970}, {\"transaction-id\": 84431, \"amount\": 6162}, {\"transaction-id\": 85319, \"amount\": 5996}, {\"transaction-id\": 85769, \"amount\": 5737}, {\"transaction-id\": 86126, \"amount\": 6387}, {\"transaction-id\": 87179, \"amount\": 6124}, {\"transaction-id\": 87530, \"amount\": 6023}, {\"transaction-id\": 88302, \"amount\": 6555}, {\"transaction-id\": 88468, \"amount\": 5956}, {\"transaction-id\": 88940, \"amount\": 6152}, {\"transaction-id\": 90748, \"amount\": 6347}, {\"transaction-id\": 93647, \"amount\": 6262}, {\"transaction-id\": 94871, \"amount\": 5841}, {\"transaction-id\": 95469, \"amount\": 6288}, {\"transaction-id\": 95768, \"amount\": 5945}, {\"transaction-id\": 95926, \"amount\": 5948}, {\"transaction-id\": 96002, \"amount\": 6411}, {\"transaction-id\": 96269, \"amount\": 6310}, {\"transaction-id\": 97123, \"amount\": 6345}, {\"transaction-id\": 99980, \"amount\": 6072}]}\\n',)"
      ]
     },
     "execution_count": 4,
     "metadata": {},
     "output_type": "execute_result"
    }
   ],
   "source": [
    "# each element is a text file, where each line is a JSON object\n",
    "# note that the compression is handled automatically\n",
    "import os\n",
    "b = db.read_text(os.path.join('data', 'accounts.*.json.gz'))\n",
    "b.take(1)"
   ]
  },
  {
   "cell_type": "code",
   "execution_count": 5,
   "metadata": {},
   "outputs": [
    {
     "data": {
      "text/plain": [
       "('VendorID,tpep_pickup_datetime,tpep_dropoff_datetime,passenger_count,trip_distance,pickup_longitude,pickup_latitude,RateCodeID,store_and_fwd_flag,dropoff_longitude,dropoff_latitude,payment_type,fare_amount,extra,mta_tax,tip_amount,tolls_amount,improvement_surcharge,total_amount\\n',)"
      ]
     },
     "execution_count": 5,
     "metadata": {},
     "output_type": "execute_result"
    }
   ],
   "source": [
    "# Requires `s3fs` library\n",
    "# each partition is a remote CSV text file\n",
    "b = db.read_text('s3://dask-data/nyc-taxi/2015/yellow_tripdata_2015-01.csv',\n",
    "                 storage_options={'anon': True})\n",
    "b.take(1)"
   ]
  },
  {
   "cell_type": "markdown",
   "metadata": {},
   "source": [
    "## Manipulation"
   ]
  },
  {
   "cell_type": "markdown",
   "metadata": {},
   "source": [
    "`Bag` objects hold the standard functional API found in projects like the Python standard library, `toolz`, or `pyspark`, including `map`, `filter`, `groupby`, etc..\n",
    "\n",
    "Operations on `Bag` objects create new bags.  Call the `.compute()` method to trigger execution, as we saw for `Delayed` objects.  "
   ]
  },
  {
   "cell_type": "code",
   "execution_count": 6,
   "metadata": {},
   "outputs": [
    {
     "data": {
      "text/plain": [
       "dask.bag<lambda, npartitions=10>"
      ]
     },
     "execution_count": 6,
     "metadata": {},
     "output_type": "execute_result"
    }
   ],
   "source": [
    "def is_even(n):\n",
    "    return n % 2 == 0\n",
    "\n",
    "b = db.from_sequence([1, 2, 3, 4, 5, 6, 7, 8, 9, 10])\n",
    "c = b.filter(is_even).map(lambda x: x ** 2)\n",
    "c"
   ]
  },
  {
   "cell_type": "code",
   "execution_count": 7,
   "metadata": {},
   "outputs": [
    {
     "data": {
      "text/plain": [
       "[4, 16, 36, 64, 100]"
      ]
     },
     "execution_count": 7,
     "metadata": {},
     "output_type": "execute_result"
    }
   ],
   "source": [
    "# blocking form: wait for completion (which is very fast in this case)\n",
    "c.compute()\n"
   ]
  },
  {
   "cell_type": "markdown",
   "metadata": {},
   "source": [
    "### Example: Accounts JSON data"
   ]
  },
  {
   "cell_type": "markdown",
   "metadata": {},
   "source": [
    "We've created a fake dataset of gzipped JSON data in your data directory.  This is like the example used in the `DataFrame` example we will see later, except that it has bundled up all of the entires for each individual `id` into a single record.  This is similar to data that you might collect off of a document store database or a web API.\n",
    "\n",
    "Each line is a JSON encoded dictionary with the following keys\n",
    "\n",
    "*  id: Unique identifier of the customer\n",
    "*  name: Name of the customer\n",
    "*  transactions: List of `transaction-id`, `amount` pairs, one for each transaction for the customer in that file"
   ]
  },
  {
   "cell_type": "code",
   "execution_count": 8,
   "metadata": {},
   "outputs": [
    {
     "data": {
      "text/plain": [
       "('{\"id\": 0, \"name\": \"Ray\", \"transactions\": [{\"transaction-id\": 302, \"amount\": 5842}, {\"transaction-id\": 813, \"amount\": 6482}, {\"transaction-id\": 1180, \"amount\": 6443}, {\"transaction-id\": 2623, \"amount\": 6594}, {\"transaction-id\": 5001, \"amount\": 6184}, {\"transaction-id\": 5345, \"amount\": 6060}, {\"transaction-id\": 5529, \"amount\": 6338}, {\"transaction-id\": 7978, \"amount\": 6329}, {\"transaction-id\": 8685, \"amount\": 6125}, {\"transaction-id\": 8996, \"amount\": 5970}, {\"transaction-id\": 11324, \"amount\": 6135}, {\"transaction-id\": 11814, \"amount\": 5913}, {\"transaction-id\": 14294, \"amount\": 6041}, {\"transaction-id\": 14565, \"amount\": 5820}, {\"transaction-id\": 16220, \"amount\": 6363}, {\"transaction-id\": 17117, \"amount\": 5849}, {\"transaction-id\": 17326, \"amount\": 6105}, {\"transaction-id\": 18129, \"amount\": 6169}, {\"transaction-id\": 18206, \"amount\": 6578}, {\"transaction-id\": 19383, \"amount\": 6666}, {\"transaction-id\": 21854, \"amount\": 6394}, {\"transaction-id\": 22461, \"amount\": 6153}, {\"transaction-id\": 23109, \"amount\": 6161}, {\"transaction-id\": 23295, \"amount\": 5979}, {\"transaction-id\": 23555, \"amount\": 6069}, {\"transaction-id\": 23943, \"amount\": 6038}, {\"transaction-id\": 24142, \"amount\": 6418}, {\"transaction-id\": 25051, \"amount\": 5984}, {\"transaction-id\": 25582, \"amount\": 6515}, {\"transaction-id\": 26201, \"amount\": 6015}, {\"transaction-id\": 26417, \"amount\": 6295}, {\"transaction-id\": 26547, \"amount\": 5959}, {\"transaction-id\": 27657, \"amount\": 5793}, {\"transaction-id\": 27700, \"amount\": 5880}, {\"transaction-id\": 29027, \"amount\": 6089}, {\"transaction-id\": 29071, \"amount\": 6068}, {\"transaction-id\": 30170, \"amount\": 6280}, {\"transaction-id\": 30324, \"amount\": 5917}, {\"transaction-id\": 31435, \"amount\": 6154}, {\"transaction-id\": 31448, \"amount\": 6485}, {\"transaction-id\": 33160, \"amount\": 6341}, {\"transaction-id\": 34401, \"amount\": 6100}, {\"transaction-id\": 34468, \"amount\": 5860}, {\"transaction-id\": 34510, \"amount\": 6305}, {\"transaction-id\": 34537, \"amount\": 6149}, {\"transaction-id\": 34775, \"amount\": 6189}, {\"transaction-id\": 34837, \"amount\": 6553}, {\"transaction-id\": 35220, \"amount\": 6254}, {\"transaction-id\": 35480, \"amount\": 5920}, {\"transaction-id\": 35884, \"amount\": 6393}, {\"transaction-id\": 36015, \"amount\": 5986}, {\"transaction-id\": 36136, \"amount\": 6178}, {\"transaction-id\": 36333, \"amount\": 6085}, {\"transaction-id\": 36627, \"amount\": 5774}, {\"transaction-id\": 37232, \"amount\": 5979}, {\"transaction-id\": 37414, \"amount\": 6309}, {\"transaction-id\": 37675, \"amount\": 5728}, {\"transaction-id\": 38486, \"amount\": 5951}, {\"transaction-id\": 38616, \"amount\": 6171}, {\"transaction-id\": 38673, \"amount\": 5706}, {\"transaction-id\": 39111, \"amount\": 5696}, {\"transaction-id\": 39693, \"amount\": 6054}, {\"transaction-id\": 39765, \"amount\": 5566}, {\"transaction-id\": 39832, \"amount\": 6390}, {\"transaction-id\": 40184, \"amount\": 6517}, {\"transaction-id\": 42022, \"amount\": 5662}, {\"transaction-id\": 43472, \"amount\": 5633}, {\"transaction-id\": 44636, \"amount\": 5816}, {\"transaction-id\": 44980, \"amount\": 6413}, {\"transaction-id\": 45917, \"amount\": 6087}, {\"transaction-id\": 46266, \"amount\": 6090}, {\"transaction-id\": 46758, \"amount\": 6132}, {\"transaction-id\": 46845, \"amount\": 5882}, {\"transaction-id\": 47631, \"amount\": 5656}, {\"transaction-id\": 49594, \"amount\": 5917}, {\"transaction-id\": 49887, \"amount\": 5949}, {\"transaction-id\": 51372, \"amount\": 6156}, {\"transaction-id\": 51461, \"amount\": 5874}, {\"transaction-id\": 51828, \"amount\": 6120}, {\"transaction-id\": 52671, \"amount\": 6329}, {\"transaction-id\": 53712, \"amount\": 6256}, {\"transaction-id\": 53718, \"amount\": 5756}, {\"transaction-id\": 55501, \"amount\": 6315}, {\"transaction-id\": 55653, \"amount\": 5735}, {\"transaction-id\": 56720, \"amount\": 5578}, {\"transaction-id\": 61520, \"amount\": 6042}, {\"transaction-id\": 61925, \"amount\": 5902}, {\"transaction-id\": 61946, \"amount\": 6136}, {\"transaction-id\": 62529, \"amount\": 6283}, {\"transaction-id\": 63066, \"amount\": 5997}, {\"transaction-id\": 63222, \"amount\": 6539}, {\"transaction-id\": 63679, \"amount\": 6014}, {\"transaction-id\": 63948, \"amount\": 6338}, {\"transaction-id\": 64018, \"amount\": 6152}, {\"transaction-id\": 64332, \"amount\": 6101}, {\"transaction-id\": 64334, \"amount\": 6365}, {\"transaction-id\": 65694, \"amount\": 5427}, {\"transaction-id\": 65788, \"amount\": 6575}, {\"transaction-id\": 66033, \"amount\": 6846}, {\"transaction-id\": 67358, \"amount\": 6300}, {\"transaction-id\": 67798, \"amount\": 6066}, {\"transaction-id\": 69256, \"amount\": 6374}, {\"transaction-id\": 70264, \"amount\": 6172}, {\"transaction-id\": 70436, \"amount\": 5914}, {\"transaction-id\": 71872, \"amount\": 6143}, {\"transaction-id\": 72309, \"amount\": 6709}, {\"transaction-id\": 72407, \"amount\": 6009}, {\"transaction-id\": 72893, \"amount\": 6361}, {\"transaction-id\": 73075, \"amount\": 6441}, {\"transaction-id\": 74286, \"amount\": 6302}, {\"transaction-id\": 74731, \"amount\": 6392}, {\"transaction-id\": 76276, \"amount\": 5918}, {\"transaction-id\": 76532, \"amount\": 6091}, {\"transaction-id\": 77734, \"amount\": 6283}, {\"transaction-id\": 79509, \"amount\": 6153}, {\"transaction-id\": 80347, \"amount\": 6221}, {\"transaction-id\": 82165, \"amount\": 5742}, {\"transaction-id\": 83002, \"amount\": 6211}, {\"transaction-id\": 84151, \"amount\": 6076}, {\"transaction-id\": 84345, \"amount\": 5970}, {\"transaction-id\": 84431, \"amount\": 6162}, {\"transaction-id\": 85319, \"amount\": 5996}, {\"transaction-id\": 85769, \"amount\": 5737}, {\"transaction-id\": 86126, \"amount\": 6387}, {\"transaction-id\": 87179, \"amount\": 6124}, {\"transaction-id\": 87530, \"amount\": 6023}, {\"transaction-id\": 88302, \"amount\": 6555}, {\"transaction-id\": 88468, \"amount\": 5956}, {\"transaction-id\": 88940, \"amount\": 6152}, {\"transaction-id\": 90748, \"amount\": 6347}, {\"transaction-id\": 93647, \"amount\": 6262}, {\"transaction-id\": 94871, \"amount\": 5841}, {\"transaction-id\": 95469, \"amount\": 6288}, {\"transaction-id\": 95768, \"amount\": 5945}, {\"transaction-id\": 95926, \"amount\": 5948}, {\"transaction-id\": 96002, \"amount\": 6411}, {\"transaction-id\": 96269, \"amount\": 6310}, {\"transaction-id\": 97123, \"amount\": 6345}, {\"transaction-id\": 99980, \"amount\": 6072}]}\\n',\n",
       " '{\"id\": 1, \"name\": \"Frank\", \"transactions\": [{\"transaction-id\": 367, \"amount\": 234}, {\"transaction-id\": 458, \"amount\": 285}, {\"transaction-id\": 626, \"amount\": 255}, {\"transaction-id\": 646, \"amount\": 188}, {\"transaction-id\": 718, \"amount\": 216}, {\"transaction-id\": 774, \"amount\": 215}, {\"transaction-id\": 992, \"amount\": 221}, {\"transaction-id\": 1008, \"amount\": 275}, {\"transaction-id\": 1337, \"amount\": 197}, {\"transaction-id\": 1900, \"amount\": 259}, {\"transaction-id\": 2200, \"amount\": 232}, {\"transaction-id\": 2411, \"amount\": 258}, {\"transaction-id\": 3068, \"amount\": 261}, {\"transaction-id\": 3091, \"amount\": 230}, {\"transaction-id\": 3445, \"amount\": 238}, {\"transaction-id\": 3826, \"amount\": 219}, {\"transaction-id\": 3855, \"amount\": 298}, {\"transaction-id\": 4033, \"amount\": 237}, {\"transaction-id\": 4203, \"amount\": 254}, {\"transaction-id\": 4379, \"amount\": 261}, {\"transaction-id\": 4794, \"amount\": 217}, {\"transaction-id\": 5412, \"amount\": 231}, {\"transaction-id\": 5921, \"amount\": 224}, {\"transaction-id\": 6031, \"amount\": 273}, {\"transaction-id\": 6284, \"amount\": 237}, {\"transaction-id\": 6821, \"amount\": 235}, {\"transaction-id\": 7007, \"amount\": 277}, {\"transaction-id\": 7400, \"amount\": 248}, {\"transaction-id\": 7526, \"amount\": 232}, {\"transaction-id\": 7920, \"amount\": 217}, {\"transaction-id\": 8693, \"amount\": 281}, {\"transaction-id\": 8844, \"amount\": 235}, {\"transaction-id\": 8872, \"amount\": 284}, {\"transaction-id\": 8951, \"amount\": 286}, {\"transaction-id\": 9042, \"amount\": 253}, {\"transaction-id\": 9663, \"amount\": 278}, {\"transaction-id\": 10439, \"amount\": 221}, {\"transaction-id\": 10911, \"amount\": 224}, {\"transaction-id\": 11055, \"amount\": 154}, {\"transaction-id\": 11273, \"amount\": 242}, {\"transaction-id\": 12393, \"amount\": 285}, {\"transaction-id\": 12601, \"amount\": 213}, {\"transaction-id\": 13168, \"amount\": 240}, {\"transaction-id\": 13624, \"amount\": 200}, {\"transaction-id\": 13924, \"amount\": 251}, {\"transaction-id\": 16288, \"amount\": 261}, {\"transaction-id\": 16643, \"amount\": 278}, {\"transaction-id\": 17902, \"amount\": 231}, {\"transaction-id\": 17947, \"amount\": 268}, {\"transaction-id\": 18248, \"amount\": 222}, {\"transaction-id\": 18748, \"amount\": 251}, {\"transaction-id\": 19619, \"amount\": 234}, {\"transaction-id\": 20351, \"amount\": 219}, {\"transaction-id\": 20401, \"amount\": 268}, {\"transaction-id\": 20580, \"amount\": 205}, {\"transaction-id\": 21078, \"amount\": 290}, {\"transaction-id\": 21128, \"amount\": 210}, {\"transaction-id\": 21522, \"amount\": 205}, {\"transaction-id\": 22515, \"amount\": 216}, {\"transaction-id\": 22617, \"amount\": 182}, {\"transaction-id\": 22890, \"amount\": 253}, {\"transaction-id\": 24509, \"amount\": 260}, {\"transaction-id\": 24777, \"amount\": 260}, {\"transaction-id\": 25094, \"amount\": 286}, {\"transaction-id\": 25156, \"amount\": 265}, {\"transaction-id\": 25388, \"amount\": 280}, {\"transaction-id\": 25585, \"amount\": 299}, {\"transaction-id\": 25679, \"amount\": 284}, {\"transaction-id\": 25769, \"amount\": 268}, {\"transaction-id\": 25942, \"amount\": 283}, {\"transaction-id\": 26050, \"amount\": 271}, {\"transaction-id\": 26607, \"amount\": 284}, {\"transaction-id\": 26640, \"amount\": 180}, {\"transaction-id\": 28147, \"amount\": 274}, {\"transaction-id\": 28490, \"amount\": 269}, {\"transaction-id\": 28914, \"amount\": 197}, {\"transaction-id\": 28959, \"amount\": 241}, {\"transaction-id\": 30496, \"amount\": 230}, {\"transaction-id\": 31092, \"amount\": 207}, {\"transaction-id\": 31357, \"amount\": 296}, {\"transaction-id\": 31863, \"amount\": 163}, {\"transaction-id\": 31934, \"amount\": 248}, {\"transaction-id\": 32210, \"amount\": 240}, {\"transaction-id\": 32375, \"amount\": 236}, {\"transaction-id\": 32849, \"amount\": 301}, {\"transaction-id\": 32961, \"amount\": 310}, {\"transaction-id\": 33474, \"amount\": 318}, {\"transaction-id\": 33699, \"amount\": 247}, {\"transaction-id\": 34324, \"amount\": 233}, {\"transaction-id\": 34576, \"amount\": 175}, {\"transaction-id\": 34698, \"amount\": 228}, {\"transaction-id\": 35191, \"amount\": 237}, {\"transaction-id\": 35762, \"amount\": 254}, {\"transaction-id\": 35784, \"amount\": 246}, {\"transaction-id\": 36200, \"amount\": 292}, {\"transaction-id\": 36664, \"amount\": 272}, {\"transaction-id\": 37405, \"amount\": 286}, {\"transaction-id\": 37586, \"amount\": 234}, {\"transaction-id\": 38192, \"amount\": 248}, {\"transaction-id\": 38343, \"amount\": 240}, {\"transaction-id\": 38383, \"amount\": 212}, {\"transaction-id\": 39065, \"amount\": 240}, {\"transaction-id\": 39173, \"amount\": 244}, {\"transaction-id\": 39991, \"amount\": 258}, {\"transaction-id\": 40088, \"amount\": 259}, {\"transaction-id\": 40309, \"amount\": 283}, {\"transaction-id\": 40538, \"amount\": 222}, {\"transaction-id\": 41573, \"amount\": 313}, {\"transaction-id\": 41651, \"amount\": 234}, {\"transaction-id\": 41977, \"amount\": 242}, {\"transaction-id\": 42092, \"amount\": 286}, {\"transaction-id\": 42151, \"amount\": 257}, {\"transaction-id\": 42726, \"amount\": 286}, {\"transaction-id\": 42809, \"amount\": 263}, {\"transaction-id\": 43432, \"amount\": 238}, {\"transaction-id\": 44011, \"amount\": 281}, {\"transaction-id\": 44640, \"amount\": 293}, {\"transaction-id\": 44673, \"amount\": 258}, {\"transaction-id\": 44861, \"amount\": 164}, {\"transaction-id\": 44982, \"amount\": 307}, {\"transaction-id\": 45061, \"amount\": 212}, {\"transaction-id\": 45349, \"amount\": 222}, {\"transaction-id\": 45448, \"amount\": 239}, {\"transaction-id\": 45833, \"amount\": 292}, {\"transaction-id\": 46145, \"amount\": 302}, {\"transaction-id\": 46831, \"amount\": 250}, {\"transaction-id\": 47060, \"amount\": 218}, {\"transaction-id\": 47337, \"amount\": 237}, {\"transaction-id\": 47376, \"amount\": 247}, {\"transaction-id\": 47412, \"amount\": 259}, {\"transaction-id\": 47647, \"amount\": 290}, {\"transaction-id\": 47922, \"amount\": 249}, {\"transaction-id\": 48452, \"amount\": 207}, {\"transaction-id\": 48478, \"amount\": 227}, {\"transaction-id\": 48531, \"amount\": 234}, {\"transaction-id\": 48618, \"amount\": 232}, {\"transaction-id\": 48698, \"amount\": 248}, {\"transaction-id\": 48976, \"amount\": 247}, {\"transaction-id\": 49284, \"amount\": 238}, {\"transaction-id\": 49827, \"amount\": 247}, {\"transaction-id\": 49880, \"amount\": 254}, {\"transaction-id\": 50093, \"amount\": 248}, {\"transaction-id\": 50294, \"amount\": 286}, {\"transaction-id\": 50908, \"amount\": 211}, {\"transaction-id\": 50953, \"amount\": 350}, {\"transaction-id\": 51026, \"amount\": 282}, {\"transaction-id\": 51219, \"amount\": 257}, {\"transaction-id\": 51646, \"amount\": 235}, {\"transaction-id\": 51909, \"amount\": 216}, {\"transaction-id\": 53577, \"amount\": 253}, {\"transaction-id\": 53634, \"amount\": 296}, {\"transaction-id\": 53744, \"amount\": 255}, {\"transaction-id\": 55092, \"amount\": 284}, {\"transaction-id\": 55212, \"amount\": 247}, {\"transaction-id\": 55395, \"amount\": 259}, {\"transaction-id\": 56199, \"amount\": 230}, {\"transaction-id\": 56273, \"amount\": 250}, {\"transaction-id\": 56437, \"amount\": 174}, {\"transaction-id\": 56683, \"amount\": 217}, {\"transaction-id\": 57642, \"amount\": 320}, {\"transaction-id\": 57773, \"amount\": 264}, {\"transaction-id\": 58103, \"amount\": 278}, {\"transaction-id\": 58159, \"amount\": 211}, {\"transaction-id\": 58354, \"amount\": 220}, {\"transaction-id\": 58717, \"amount\": 223}, {\"transaction-id\": 58875, \"amount\": 228}, {\"transaction-id\": 59027, \"amount\": 236}, {\"transaction-id\": 59206, \"amount\": 283}, {\"transaction-id\": 59259, \"amount\": 178}, {\"transaction-id\": 59446, \"amount\": 260}, {\"transaction-id\": 59515, \"amount\": 195}, {\"transaction-id\": 60231, \"amount\": 218}, {\"transaction-id\": 60527, \"amount\": 194}, {\"transaction-id\": 60634, \"amount\": 282}, {\"transaction-id\": 60705, \"amount\": 315}, {\"transaction-id\": 60947, \"amount\": 221}, {\"transaction-id\": 61447, \"amount\": 258}, {\"transaction-id\": 61578, \"amount\": 260}, {\"transaction-id\": 61934, \"amount\": 286}, {\"transaction-id\": 62217, \"amount\": 248}, {\"transaction-id\": 62541, \"amount\": 267}, {\"transaction-id\": 62893, \"amount\": 294}, {\"transaction-id\": 63510, \"amount\": 307}, {\"transaction-id\": 63818, \"amount\": 249}, {\"transaction-id\": 63963, \"amount\": 250}, {\"transaction-id\": 64213, \"amount\": 265}, {\"transaction-id\": 64251, \"amount\": 199}, {\"transaction-id\": 64379, \"amount\": 231}, {\"transaction-id\": 64737, \"amount\": 227}, {\"transaction-id\": 64791, \"amount\": 209}, {\"transaction-id\": 65827, \"amount\": 202}, {\"transaction-id\": 66871, \"amount\": 202}, {\"transaction-id\": 67143, \"amount\": 281}, {\"transaction-id\": 67516, \"amount\": 258}, {\"transaction-id\": 68557, \"amount\": 214}, {\"transaction-id\": 68777, \"amount\": 251}, {\"transaction-id\": 69438, \"amount\": 250}, {\"transaction-id\": 69576, \"amount\": 276}, {\"transaction-id\": 69687, \"amount\": 298}, {\"transaction-id\": 69806, \"amount\": 261}, {\"transaction-id\": 69830, \"amount\": 256}, {\"transaction-id\": 70118, \"amount\": 242}, {\"transaction-id\": 71371, \"amount\": 237}, {\"transaction-id\": 71528, \"amount\": 265}, {\"transaction-id\": 71547, \"amount\": 286}, {\"transaction-id\": 71643, \"amount\": 253}, {\"transaction-id\": 71832, \"amount\": 285}, {\"transaction-id\": 72557, \"amount\": 224}, {\"transaction-id\": 72567, \"amount\": 262}, {\"transaction-id\": 72643, \"amount\": 252}, {\"transaction-id\": 72830, \"amount\": 244}, {\"transaction-id\": 73105, \"amount\": 265}, {\"transaction-id\": 73584, \"amount\": 286}, {\"transaction-id\": 73923, \"amount\": 223}, {\"transaction-id\": 74818, \"amount\": 298}, {\"transaction-id\": 75197, \"amount\": 306}, {\"transaction-id\": 75340, \"amount\": 262}, {\"transaction-id\": 75487, \"amount\": 268}, {\"transaction-id\": 76412, \"amount\": 274}, {\"transaction-id\": 77083, \"amount\": 306}, {\"transaction-id\": 77802, \"amount\": 215}, {\"transaction-id\": 77988, \"amount\": 236}, {\"transaction-id\": 78239, \"amount\": 258}, {\"transaction-id\": 78352, \"amount\": 269}, {\"transaction-id\": 78895, \"amount\": 255}, {\"transaction-id\": 79163, \"amount\": 286}, {\"transaction-id\": 79324, \"amount\": 270}, {\"transaction-id\": 79362, \"amount\": 245}, {\"transaction-id\": 79400, \"amount\": 240}, {\"transaction-id\": 79414, \"amount\": 235}, {\"transaction-id\": 79581, \"amount\": 241}, {\"transaction-id\": 79716, \"amount\": 297}, {\"transaction-id\": 79770, \"amount\": 247}, {\"transaction-id\": 80091, \"amount\": 305}, {\"transaction-id\": 80356, \"amount\": 247}, {\"transaction-id\": 80997, \"amount\": 218}, {\"transaction-id\": 81014, \"amount\": 246}, {\"transaction-id\": 81331, \"amount\": 247}, {\"transaction-id\": 81889, \"amount\": 254}, {\"transaction-id\": 81910, \"amount\": 295}, {\"transaction-id\": 82147, \"amount\": 238}, {\"transaction-id\": 82464, \"amount\": 190}, {\"transaction-id\": 82503, \"amount\": 216}, {\"transaction-id\": 83401, \"amount\": 235}, {\"transaction-id\": 83453, \"amount\": 216}, {\"transaction-id\": 83916, \"amount\": 311}, {\"transaction-id\": 84066, \"amount\": 221}, {\"transaction-id\": 84111, \"amount\": 290}, {\"transaction-id\": 84175, \"amount\": 253}, {\"transaction-id\": 84443, \"amount\": 245}, {\"transaction-id\": 84468, \"amount\": 324}, {\"transaction-id\": 85064, \"amount\": 207}, {\"transaction-id\": 85304, \"amount\": 238}, {\"transaction-id\": 85545, \"amount\": 245}, {\"transaction-id\": 85787, \"amount\": 243}, {\"transaction-id\": 86733, \"amount\": 271}, {\"transaction-id\": 86793, \"amount\": 286}, {\"transaction-id\": 87419, \"amount\": 262}, {\"transaction-id\": 87718, \"amount\": 227}, {\"transaction-id\": 87830, \"amount\": 270}, {\"transaction-id\": 87913, \"amount\": 273}, {\"transaction-id\": 89391, \"amount\": 322}, {\"transaction-id\": 89550, \"amount\": 249}, {\"transaction-id\": 90589, \"amount\": 189}, {\"transaction-id\": 90596, \"amount\": 226}, {\"transaction-id\": 90662, \"amount\": 308}, {\"transaction-id\": 91273, \"amount\": 242}, {\"transaction-id\": 91310, \"amount\": 213}, {\"transaction-id\": 91608, \"amount\": 269}, {\"transaction-id\": 91708, \"amount\": 226}, {\"transaction-id\": 91881, \"amount\": 295}, {\"transaction-id\": 92386, \"amount\": 183}, {\"transaction-id\": 92629, \"amount\": 244}, {\"transaction-id\": 92636, \"amount\": 303}, {\"transaction-id\": 92909, \"amount\": 196}, {\"transaction-id\": 93803, \"amount\": 195}, {\"transaction-id\": 93836, \"amount\": 237}, {\"transaction-id\": 94199, \"amount\": 237}, {\"transaction-id\": 94334, \"amount\": 268}, {\"transaction-id\": 95157, \"amount\": 236}, {\"transaction-id\": 95598, \"amount\": 346}, {\"transaction-id\": 95617, \"amount\": 233}, {\"transaction-id\": 95778, \"amount\": 243}, {\"transaction-id\": 95909, \"amount\": 264}, {\"transaction-id\": 96257, \"amount\": 238}, {\"transaction-id\": 96398, \"amount\": 278}, {\"transaction-id\": 96806, \"amount\": 191}, {\"transaction-id\": 96830, \"amount\": 250}, {\"transaction-id\": 96871, \"amount\": 297}, {\"transaction-id\": 97104, \"amount\": 277}, {\"transaction-id\": 97178, \"amount\": 214}, {\"transaction-id\": 98008, \"amount\": 266}, {\"transaction-id\": 98848, \"amount\": 245}, {\"transaction-id\": 99057, \"amount\": 241}, {\"transaction-id\": 99956, \"amount\": 240}]}\\n',\n",
       " '{\"id\": 2, \"name\": \"Frank\", \"transactions\": [{\"transaction-id\": 567, \"amount\": 1852}, {\"transaction-id\": 931, \"amount\": 1888}, {\"transaction-id\": 1163, \"amount\": 1899}, {\"transaction-id\": 1340, \"amount\": 1902}, {\"transaction-id\": 1512, \"amount\": 2027}, {\"transaction-id\": 1725, \"amount\": 1769}, {\"transaction-id\": 2096, \"amount\": 1820}, {\"transaction-id\": 2143, \"amount\": 1863}, {\"transaction-id\": 2739, \"amount\": 1787}, {\"transaction-id\": 2815, \"amount\": 2086}, {\"transaction-id\": 3190, \"amount\": 2018}, {\"transaction-id\": 3205, \"amount\": 1851}, {\"transaction-id\": 3625, \"amount\": 1743}, {\"transaction-id\": 3642, \"amount\": 1898}, {\"transaction-id\": 3689, \"amount\": 1854}, {\"transaction-id\": 3968, \"amount\": 1796}, {\"transaction-id\": 3975, \"amount\": 1860}, {\"transaction-id\": 4040, \"amount\": 1729}, {\"transaction-id\": 4160, \"amount\": 1818}, {\"transaction-id\": 4349, \"amount\": 1726}, {\"transaction-id\": 5008, \"amount\": 1946}, {\"transaction-id\": 5475, \"amount\": 1731}, {\"transaction-id\": 5681, \"amount\": 1757}, {\"transaction-id\": 5923, \"amount\": 1881}, {\"transaction-id\": 6365, \"amount\": 1977}, {\"transaction-id\": 6442, \"amount\": 1846}, {\"transaction-id\": 6898, \"amount\": 1801}, {\"transaction-id\": 7072, \"amount\": 1961}, {\"transaction-id\": 8424, \"amount\": 1683}, {\"transaction-id\": 8467, \"amount\": 1797}, {\"transaction-id\": 8854, \"amount\": 1884}, {\"transaction-id\": 9147, \"amount\": 1776}, {\"transaction-id\": 9657, \"amount\": 1805}, {\"transaction-id\": 9932, \"amount\": 1732}, {\"transaction-id\": 10109, \"amount\": 1836}, {\"transaction-id\": 10310, \"amount\": 1760}, {\"transaction-id\": 10396, \"amount\": 1789}, {\"transaction-id\": 10566, \"amount\": 1757}, {\"transaction-id\": 10918, \"amount\": 1916}, {\"transaction-id\": 11117, \"amount\": 1752}, {\"transaction-id\": 11166, \"amount\": 1809}, {\"transaction-id\": 11411, \"amount\": 1810}, {\"transaction-id\": 11616, \"amount\": 2015}, {\"transaction-id\": 11701, \"amount\": 1925}, {\"transaction-id\": 12106, \"amount\": 2001}, {\"transaction-id\": 12308, \"amount\": 1904}, {\"transaction-id\": 12567, \"amount\": 1824}, {\"transaction-id\": 12591, \"amount\": 1858}, {\"transaction-id\": 14625, \"amount\": 1881}, {\"transaction-id\": 15426, \"amount\": 1750}, {\"transaction-id\": 16120, \"amount\": 1969}, {\"transaction-id\": 16350, \"amount\": 1799}, {\"transaction-id\": 16422, \"amount\": 1917}, {\"transaction-id\": 17186, \"amount\": 1919}, {\"transaction-id\": 17252, \"amount\": 1844}, {\"transaction-id\": 17294, \"amount\": 1923}, {\"transaction-id\": 17303, \"amount\": 2022}, {\"transaction-id\": 17826, \"amount\": 2005}, {\"transaction-id\": 18091, \"amount\": 1809}, {\"transaction-id\": 18136, \"amount\": 1788}, {\"transaction-id\": 18474, \"amount\": 2024}, {\"transaction-id\": 18596, \"amount\": 1799}, {\"transaction-id\": 18680, \"amount\": 1877}, {\"transaction-id\": 18954, \"amount\": 1905}, {\"transaction-id\": 19614, \"amount\": 1699}, {\"transaction-id\": 19828, \"amount\": 1920}, {\"transaction-id\": 20006, \"amount\": 1769}, {\"transaction-id\": 20164, \"amount\": 1987}, {\"transaction-id\": 20963, \"amount\": 1545}, {\"transaction-id\": 21915, \"amount\": 1787}, {\"transaction-id\": 22237, \"amount\": 1835}, {\"transaction-id\": 22373, \"amount\": 1992}, {\"transaction-id\": 22628, \"amount\": 1671}, {\"transaction-id\": 23103, \"amount\": 1894}, {\"transaction-id\": 23266, \"amount\": 1722}, {\"transaction-id\": 23270, \"amount\": 1629}, {\"transaction-id\": 23308, \"amount\": 1878}, {\"transaction-id\": 23599, \"amount\": 1519}, {\"transaction-id\": 23807, \"amount\": 1894}, {\"transaction-id\": 23953, \"amount\": 1785}, {\"transaction-id\": 24146, \"amount\": 2008}, {\"transaction-id\": 24223, \"amount\": 1793}, {\"transaction-id\": 24740, \"amount\": 1981}, {\"transaction-id\": 24979, \"amount\": 1880}, {\"transaction-id\": 25097, \"amount\": 1902}, {\"transaction-id\": 25261, \"amount\": 1889}, {\"transaction-id\": 25325, \"amount\": 1861}, {\"transaction-id\": 25559, \"amount\": 1740}, {\"transaction-id\": 25876, \"amount\": 1763}, {\"transaction-id\": 26031, \"amount\": 1709}, {\"transaction-id\": 26287, \"amount\": 1897}, {\"transaction-id\": 26960, \"amount\": 1885}, {\"transaction-id\": 27244, \"amount\": 1951}, {\"transaction-id\": 27547, \"amount\": 1878}, {\"transaction-id\": 27623, \"amount\": 1804}, {\"transaction-id\": 27791, \"amount\": 1935}, {\"transaction-id\": 27838, \"amount\": 1980}, {\"transaction-id\": 27977, \"amount\": 1740}, {\"transaction-id\": 29220, \"amount\": 1847}, {\"transaction-id\": 29521, \"amount\": 1762}, {\"transaction-id\": 29544, \"amount\": 1833}, {\"transaction-id\": 29877, \"amount\": 1919}, {\"transaction-id\": 30134, \"amount\": 1798}, {\"transaction-id\": 30745, \"amount\": 1878}, {\"transaction-id\": 31509, \"amount\": 1668}, {\"transaction-id\": 31692, \"amount\": 1797}, {\"transaction-id\": 31813, \"amount\": 1634}, {\"transaction-id\": 32645, \"amount\": 1965}, {\"transaction-id\": 32662, \"amount\": 1879}, {\"transaction-id\": 33045, \"amount\": 1872}, {\"transaction-id\": 33226, \"amount\": 1936}, {\"transaction-id\": 33370, \"amount\": 1796}, {\"transaction-id\": 33439, \"amount\": 1969}, {\"transaction-id\": 34540, \"amount\": 1901}, {\"transaction-id\": 34767, \"amount\": 1854}, {\"transaction-id\": 34990, \"amount\": 1941}, {\"transaction-id\": 35133, \"amount\": 1986}, {\"transaction-id\": 35574, \"amount\": 1764}, {\"transaction-id\": 35647, \"amount\": 1924}, {\"transaction-id\": 36369, \"amount\": 2029}, {\"transaction-id\": 37718, \"amount\": 1782}, {\"transaction-id\": 37737, \"amount\": 2148}, {\"transaction-id\": 38102, \"amount\": 1999}, {\"transaction-id\": 38629, \"amount\": 1762}, {\"transaction-id\": 39901, \"amount\": 1677}, {\"transaction-id\": 40144, \"amount\": 2150}, {\"transaction-id\": 40278, \"amount\": 2038}, {\"transaction-id\": 41614, \"amount\": 1829}, {\"transaction-id\": 41838, \"amount\": 1706}, {\"transaction-id\": 42074, \"amount\": 2027}, {\"transaction-id\": 42312, \"amount\": 1863}, {\"transaction-id\": 42524, \"amount\": 1804}, {\"transaction-id\": 43157, \"amount\": 1765}, {\"transaction-id\": 43384, \"amount\": 1837}, {\"transaction-id\": 43456, \"amount\": 1874}, {\"transaction-id\": 44088, \"amount\": 1942}, {\"transaction-id\": 44302, \"amount\": 1929}, {\"transaction-id\": 44462, \"amount\": 1932}, {\"transaction-id\": 44561, \"amount\": 1881}, {\"transaction-id\": 44664, \"amount\": 1901}, {\"transaction-id\": 45006, \"amount\": 1854}, {\"transaction-id\": 45039, \"amount\": 1986}, {\"transaction-id\": 45071, \"amount\": 1812}, {\"transaction-id\": 45223, \"amount\": 1842}, {\"transaction-id\": 45496, \"amount\": 1738}, {\"transaction-id\": 45795, \"amount\": 1958}, {\"transaction-id\": 46274, \"amount\": 1843}, {\"transaction-id\": 46460, \"amount\": 1670}, {\"transaction-id\": 46736, \"amount\": 1949}, {\"transaction-id\": 46848, \"amount\": 1855}, {\"transaction-id\": 46992, \"amount\": 2056}, {\"transaction-id\": 47069, \"amount\": 1956}, {\"transaction-id\": 47073, \"amount\": 1790}, {\"transaction-id\": 48218, \"amount\": 1860}, {\"transaction-id\": 48220, \"amount\": 1919}, {\"transaction-id\": 48586, \"amount\": 1902}, {\"transaction-id\": 48816, \"amount\": 1978}, {\"transaction-id\": 48821, \"amount\": 1880}, {\"transaction-id\": 48859, \"amount\": 1933}, {\"transaction-id\": 48954, \"amount\": 1751}, {\"transaction-id\": 49363, \"amount\": 1797}, {\"transaction-id\": 49444, \"amount\": 2107}, {\"transaction-id\": 50676, \"amount\": 1919}, {\"transaction-id\": 51008, \"amount\": 1769}, {\"transaction-id\": 51223, \"amount\": 1758}, {\"transaction-id\": 51653, \"amount\": 1749}, {\"transaction-id\": 52355, \"amount\": 1855}, {\"transaction-id\": 52918, \"amount\": 1944}, {\"transaction-id\": 53044, \"amount\": 1790}, {\"transaction-id\": 53598, \"amount\": 1828}, {\"transaction-id\": 53960, \"amount\": 1689}, {\"transaction-id\": 54244, \"amount\": 1837}, {\"transaction-id\": 54399, \"amount\": 1677}, {\"transaction-id\": 55563, \"amount\": 1838}, {\"transaction-id\": 55649, \"amount\": 1788}, {\"transaction-id\": 55864, \"amount\": 1916}, {\"transaction-id\": 55909, \"amount\": 1928}, {\"transaction-id\": 56117, \"amount\": 2026}, {\"transaction-id\": 56289, \"amount\": 1843}, {\"transaction-id\": 56960, \"amount\": 2045}, {\"transaction-id\": 57055, \"amount\": 2099}, {\"transaction-id\": 57397, \"amount\": 2020}, {\"transaction-id\": 57587, \"amount\": 1864}, {\"transaction-id\": 58528, \"amount\": 2023}, {\"transaction-id\": 58780, \"amount\": 1851}, {\"transaction-id\": 59775, \"amount\": 1871}, {\"transaction-id\": 59871, \"amount\": 1733}, {\"transaction-id\": 59880, \"amount\": 1973}, {\"transaction-id\": 60044, \"amount\": 1903}, {\"transaction-id\": 60164, \"amount\": 1767}, {\"transaction-id\": 60283, \"amount\": 1989}, {\"transaction-id\": 60437, \"amount\": 1729}, {\"transaction-id\": 60459, \"amount\": 1893}, {\"transaction-id\": 60814, \"amount\": 1932}, {\"transaction-id\": 60843, \"amount\": 1999}, {\"transaction-id\": 61193, \"amount\": 1754}, {\"transaction-id\": 61302, \"amount\": 1864}, {\"transaction-id\": 61485, \"amount\": 2010}, {\"transaction-id\": 61530, \"amount\": 1785}, {\"transaction-id\": 62127, \"amount\": 1749}, {\"transaction-id\": 62435, \"amount\": 1837}, {\"transaction-id\": 62471, \"amount\": 1962}, {\"transaction-id\": 62665, \"amount\": 1830}, {\"transaction-id\": 62824, \"amount\": 1918}, {\"transaction-id\": 63581, \"amount\": 1772}, {\"transaction-id\": 63599, \"amount\": 1790}, {\"transaction-id\": 63717, \"amount\": 1819}, {\"transaction-id\": 65950, \"amount\": 1898}, {\"transaction-id\": 66305, \"amount\": 1786}, {\"transaction-id\": 66432, \"amount\": 2048}, {\"transaction-id\": 66738, \"amount\": 1797}, {\"transaction-id\": 66780, \"amount\": 1883}, {\"transaction-id\": 67135, \"amount\": 1988}, {\"transaction-id\": 67335, \"amount\": 1990}, {\"transaction-id\": 68118, \"amount\": 1886}, {\"transaction-id\": 68382, \"amount\": 1925}, {\"transaction-id\": 68627, \"amount\": 1639}, {\"transaction-id\": 68737, \"amount\": 2026}, {\"transaction-id\": 69065, \"amount\": 1918}, {\"transaction-id\": 69632, \"amount\": 1955}, {\"transaction-id\": 69740, \"amount\": 1999}, {\"transaction-id\": 70450, \"amount\": 1790}, {\"transaction-id\": 70555, \"amount\": 1738}, {\"transaction-id\": 70877, \"amount\": 1962}, {\"transaction-id\": 71027, \"amount\": 2007}, {\"transaction-id\": 71129, \"amount\": 1937}, {\"transaction-id\": 71615, \"amount\": 1805}, {\"transaction-id\": 71747, \"amount\": 1743}, {\"transaction-id\": 72205, \"amount\": 1873}, {\"transaction-id\": 73136, \"amount\": 1838}, {\"transaction-id\": 73345, \"amount\": 1808}, {\"transaction-id\": 73655, \"amount\": 1872}, {\"transaction-id\": 73788, \"amount\": 1919}, {\"transaction-id\": 74099, \"amount\": 1668}, {\"transaction-id\": 74943, \"amount\": 1907}, {\"transaction-id\": 75486, \"amount\": 1822}, {\"transaction-id\": 75908, \"amount\": 1893}, {\"transaction-id\": 76259, \"amount\": 2005}, {\"transaction-id\": 76907, \"amount\": 1742}, {\"transaction-id\": 77240, \"amount\": 1970}, {\"transaction-id\": 77252, \"amount\": 1835}, {\"transaction-id\": 77492, \"amount\": 1921}, {\"transaction-id\": 77587, \"amount\": 1842}, {\"transaction-id\": 78820, \"amount\": 1876}, {\"transaction-id\": 82233, \"amount\": 1981}, {\"transaction-id\": 82321, \"amount\": 1961}, {\"transaction-id\": 82403, \"amount\": 1880}, {\"transaction-id\": 82540, \"amount\": 1859}, {\"transaction-id\": 82782, \"amount\": 1713}, {\"transaction-id\": 83095, \"amount\": 1968}, {\"transaction-id\": 83539, \"amount\": 1867}, {\"transaction-id\": 84742, \"amount\": 1810}, {\"transaction-id\": 84892, \"amount\": 1738}, {\"transaction-id\": 84902, \"amount\": 1904}, {\"transaction-id\": 84942, \"amount\": 1762}, {\"transaction-id\": 85357, \"amount\": 1985}, {\"transaction-id\": 85417, \"amount\": 1903}, {\"transaction-id\": 85485, \"amount\": 1888}, {\"transaction-id\": 85511, \"amount\": 1877}, {\"transaction-id\": 86017, \"amount\": 2022}, {\"transaction-id\": 86038, \"amount\": 1880}, {\"transaction-id\": 86421, \"amount\": 1767}, {\"transaction-id\": 86436, \"amount\": 2005}, {\"transaction-id\": 86824, \"amount\": 1822}, {\"transaction-id\": 87013, \"amount\": 1815}, {\"transaction-id\": 87126, \"amount\": 1728}, {\"transaction-id\": 87145, \"amount\": 1875}, {\"transaction-id\": 87230, \"amount\": 1809}, {\"transaction-id\": 87683, \"amount\": 1936}, {\"transaction-id\": 88064, \"amount\": 1984}, {\"transaction-id\": 88297, \"amount\": 1949}, {\"transaction-id\": 88554, \"amount\": 1936}, {\"transaction-id\": 88628, \"amount\": 1824}, {\"transaction-id\": 88866, \"amount\": 1841}, {\"transaction-id\": 88945, \"amount\": 1732}, {\"transaction-id\": 89274, \"amount\": 1992}, {\"transaction-id\": 89402, \"amount\": 1886}, {\"transaction-id\": 89676, \"amount\": 1825}, {\"transaction-id\": 91101, \"amount\": 1746}, {\"transaction-id\": 91366, \"amount\": 1870}, {\"transaction-id\": 91389, \"amount\": 1870}, {\"transaction-id\": 91715, \"amount\": 1970}, {\"transaction-id\": 91944, \"amount\": 1745}, {\"transaction-id\": 92094, \"amount\": 2091}, {\"transaction-id\": 92924, \"amount\": 1799}, {\"transaction-id\": 93794, \"amount\": 2041}, {\"transaction-id\": 94218, \"amount\": 1971}, {\"transaction-id\": 94624, \"amount\": 1876}, {\"transaction-id\": 94794, \"amount\": 2001}, {\"transaction-id\": 94833, \"amount\": 1784}, {\"transaction-id\": 94907, \"amount\": 2099}, {\"transaction-id\": 95472, \"amount\": 2005}, {\"transaction-id\": 96114, \"amount\": 1792}, {\"transaction-id\": 96212, \"amount\": 1924}, {\"transaction-id\": 96441, \"amount\": 1952}, {\"transaction-id\": 96559, \"amount\": 1730}, {\"transaction-id\": 96661, \"amount\": 2094}, {\"transaction-id\": 97201, \"amount\": 1900}, {\"transaction-id\": 97634, \"amount\": 1681}, {\"transaction-id\": 97747, \"amount\": 1940}, {\"transaction-id\": 98197, \"amount\": 1880}, {\"transaction-id\": 99455, \"amount\": 1956}, {\"transaction-id\": 99456, \"amount\": 1795}, {\"transaction-id\": 99950, \"amount\": 2142}]}\\n')"
      ]
     },
     "execution_count": 8,
     "metadata": {},
     "output_type": "execute_result"
    }
   ],
   "source": [
    "filename = os.path.join('data', 'accounts.*.json.gz')\n",
    "lines = db.read_text(filename)\n",
    "lines.take(3)"
   ]
  },
  {
   "cell_type": "markdown",
   "metadata": {},
   "source": [
    "Our data comes out of the file as lines of text. Notice that file decompression happened automatically. We can make this data look more reasonable by mapping the `json.loads` function onto our bag."
   ]
  },
  {
   "cell_type": "code",
   "execution_count": 9,
   "metadata": {},
   "outputs": [
    {
     "data": {
      "text/plain": [
       "({'id': 0,\n",
       "  'name': 'Ray',\n",
       "  'transactions': [{'transaction-id': 302, 'amount': 5842},\n",
       "   {'transaction-id': 813, 'amount': 6482},\n",
       "   {'transaction-id': 1180, 'amount': 6443},\n",
       "   {'transaction-id': 2623, 'amount': 6594},\n",
       "   {'transaction-id': 5001, 'amount': 6184},\n",
       "   {'transaction-id': 5345, 'amount': 6060},\n",
       "   {'transaction-id': 5529, 'amount': 6338},\n",
       "   {'transaction-id': 7978, 'amount': 6329},\n",
       "   {'transaction-id': 8685, 'amount': 6125},\n",
       "   {'transaction-id': 8996, 'amount': 5970},\n",
       "   {'transaction-id': 11324, 'amount': 6135},\n",
       "   {'transaction-id': 11814, 'amount': 5913},\n",
       "   {'transaction-id': 14294, 'amount': 6041},\n",
       "   {'transaction-id': 14565, 'amount': 5820},\n",
       "   {'transaction-id': 16220, 'amount': 6363},\n",
       "   {'transaction-id': 17117, 'amount': 5849},\n",
       "   {'transaction-id': 17326, 'amount': 6105},\n",
       "   {'transaction-id': 18129, 'amount': 6169},\n",
       "   {'transaction-id': 18206, 'amount': 6578},\n",
       "   {'transaction-id': 19383, 'amount': 6666},\n",
       "   {'transaction-id': 21854, 'amount': 6394},\n",
       "   {'transaction-id': 22461, 'amount': 6153},\n",
       "   {'transaction-id': 23109, 'amount': 6161},\n",
       "   {'transaction-id': 23295, 'amount': 5979},\n",
       "   {'transaction-id': 23555, 'amount': 6069},\n",
       "   {'transaction-id': 23943, 'amount': 6038},\n",
       "   {'transaction-id': 24142, 'amount': 6418},\n",
       "   {'transaction-id': 25051, 'amount': 5984},\n",
       "   {'transaction-id': 25582, 'amount': 6515},\n",
       "   {'transaction-id': 26201, 'amount': 6015},\n",
       "   {'transaction-id': 26417, 'amount': 6295},\n",
       "   {'transaction-id': 26547, 'amount': 5959},\n",
       "   {'transaction-id': 27657, 'amount': 5793},\n",
       "   {'transaction-id': 27700, 'amount': 5880},\n",
       "   {'transaction-id': 29027, 'amount': 6089},\n",
       "   {'transaction-id': 29071, 'amount': 6068},\n",
       "   {'transaction-id': 30170, 'amount': 6280},\n",
       "   {'transaction-id': 30324, 'amount': 5917},\n",
       "   {'transaction-id': 31435, 'amount': 6154},\n",
       "   {'transaction-id': 31448, 'amount': 6485},\n",
       "   {'transaction-id': 33160, 'amount': 6341},\n",
       "   {'transaction-id': 34401, 'amount': 6100},\n",
       "   {'transaction-id': 34468, 'amount': 5860},\n",
       "   {'transaction-id': 34510, 'amount': 6305},\n",
       "   {'transaction-id': 34537, 'amount': 6149},\n",
       "   {'transaction-id': 34775, 'amount': 6189},\n",
       "   {'transaction-id': 34837, 'amount': 6553},\n",
       "   {'transaction-id': 35220, 'amount': 6254},\n",
       "   {'transaction-id': 35480, 'amount': 5920},\n",
       "   {'transaction-id': 35884, 'amount': 6393},\n",
       "   {'transaction-id': 36015, 'amount': 5986},\n",
       "   {'transaction-id': 36136, 'amount': 6178},\n",
       "   {'transaction-id': 36333, 'amount': 6085},\n",
       "   {'transaction-id': 36627, 'amount': 5774},\n",
       "   {'transaction-id': 37232, 'amount': 5979},\n",
       "   {'transaction-id': 37414, 'amount': 6309},\n",
       "   {'transaction-id': 37675, 'amount': 5728},\n",
       "   {'transaction-id': 38486, 'amount': 5951},\n",
       "   {'transaction-id': 38616, 'amount': 6171},\n",
       "   {'transaction-id': 38673, 'amount': 5706},\n",
       "   {'transaction-id': 39111, 'amount': 5696},\n",
       "   {'transaction-id': 39693, 'amount': 6054},\n",
       "   {'transaction-id': 39765, 'amount': 5566},\n",
       "   {'transaction-id': 39832, 'amount': 6390},\n",
       "   {'transaction-id': 40184, 'amount': 6517},\n",
       "   {'transaction-id': 42022, 'amount': 5662},\n",
       "   {'transaction-id': 43472, 'amount': 5633},\n",
       "   {'transaction-id': 44636, 'amount': 5816},\n",
       "   {'transaction-id': 44980, 'amount': 6413},\n",
       "   {'transaction-id': 45917, 'amount': 6087},\n",
       "   {'transaction-id': 46266, 'amount': 6090},\n",
       "   {'transaction-id': 46758, 'amount': 6132},\n",
       "   {'transaction-id': 46845, 'amount': 5882},\n",
       "   {'transaction-id': 47631, 'amount': 5656},\n",
       "   {'transaction-id': 49594, 'amount': 5917},\n",
       "   {'transaction-id': 49887, 'amount': 5949},\n",
       "   {'transaction-id': 51372, 'amount': 6156},\n",
       "   {'transaction-id': 51461, 'amount': 5874},\n",
       "   {'transaction-id': 51828, 'amount': 6120},\n",
       "   {'transaction-id': 52671, 'amount': 6329},\n",
       "   {'transaction-id': 53712, 'amount': 6256},\n",
       "   {'transaction-id': 53718, 'amount': 5756},\n",
       "   {'transaction-id': 55501, 'amount': 6315},\n",
       "   {'transaction-id': 55653, 'amount': 5735},\n",
       "   {'transaction-id': 56720, 'amount': 5578},\n",
       "   {'transaction-id': 61520, 'amount': 6042},\n",
       "   {'transaction-id': 61925, 'amount': 5902},\n",
       "   {'transaction-id': 61946, 'amount': 6136},\n",
       "   {'transaction-id': 62529, 'amount': 6283},\n",
       "   {'transaction-id': 63066, 'amount': 5997},\n",
       "   {'transaction-id': 63222, 'amount': 6539},\n",
       "   {'transaction-id': 63679, 'amount': 6014},\n",
       "   {'transaction-id': 63948, 'amount': 6338},\n",
       "   {'transaction-id': 64018, 'amount': 6152},\n",
       "   {'transaction-id': 64332, 'amount': 6101},\n",
       "   {'transaction-id': 64334, 'amount': 6365},\n",
       "   {'transaction-id': 65694, 'amount': 5427},\n",
       "   {'transaction-id': 65788, 'amount': 6575},\n",
       "   {'transaction-id': 66033, 'amount': 6846},\n",
       "   {'transaction-id': 67358, 'amount': 6300},\n",
       "   {'transaction-id': 67798, 'amount': 6066},\n",
       "   {'transaction-id': 69256, 'amount': 6374},\n",
       "   {'transaction-id': 70264, 'amount': 6172},\n",
       "   {'transaction-id': 70436, 'amount': 5914},\n",
       "   {'transaction-id': 71872, 'amount': 6143},\n",
       "   {'transaction-id': 72309, 'amount': 6709},\n",
       "   {'transaction-id': 72407, 'amount': 6009},\n",
       "   {'transaction-id': 72893, 'amount': 6361},\n",
       "   {'transaction-id': 73075, 'amount': 6441},\n",
       "   {'transaction-id': 74286, 'amount': 6302},\n",
       "   {'transaction-id': 74731, 'amount': 6392},\n",
       "   {'transaction-id': 76276, 'amount': 5918},\n",
       "   {'transaction-id': 76532, 'amount': 6091},\n",
       "   {'transaction-id': 77734, 'amount': 6283},\n",
       "   {'transaction-id': 79509, 'amount': 6153},\n",
       "   {'transaction-id': 80347, 'amount': 6221},\n",
       "   {'transaction-id': 82165, 'amount': 5742},\n",
       "   {'transaction-id': 83002, 'amount': 6211},\n",
       "   {'transaction-id': 84151, 'amount': 6076},\n",
       "   {'transaction-id': 84345, 'amount': 5970},\n",
       "   {'transaction-id': 84431, 'amount': 6162},\n",
       "   {'transaction-id': 85319, 'amount': 5996},\n",
       "   {'transaction-id': 85769, 'amount': 5737},\n",
       "   {'transaction-id': 86126, 'amount': 6387},\n",
       "   {'transaction-id': 87179, 'amount': 6124},\n",
       "   {'transaction-id': 87530, 'amount': 6023},\n",
       "   {'transaction-id': 88302, 'amount': 6555},\n",
       "   {'transaction-id': 88468, 'amount': 5956},\n",
       "   {'transaction-id': 88940, 'amount': 6152},\n",
       "   {'transaction-id': 90748, 'amount': 6347},\n",
       "   {'transaction-id': 93647, 'amount': 6262},\n",
       "   {'transaction-id': 94871, 'amount': 5841},\n",
       "   {'transaction-id': 95469, 'amount': 6288},\n",
       "   {'transaction-id': 95768, 'amount': 5945},\n",
       "   {'transaction-id': 95926, 'amount': 5948},\n",
       "   {'transaction-id': 96002, 'amount': 6411},\n",
       "   {'transaction-id': 96269, 'amount': 6310},\n",
       "   {'transaction-id': 97123, 'amount': 6345},\n",
       "   {'transaction-id': 99980, 'amount': 6072}]},\n",
       " {'id': 1,\n",
       "  'name': 'Frank',\n",
       "  'transactions': [{'transaction-id': 367, 'amount': 234},\n",
       "   {'transaction-id': 458, 'amount': 285},\n",
       "   {'transaction-id': 626, 'amount': 255},\n",
       "   {'transaction-id': 646, 'amount': 188},\n",
       "   {'transaction-id': 718, 'amount': 216},\n",
       "   {'transaction-id': 774, 'amount': 215},\n",
       "   {'transaction-id': 992, 'amount': 221},\n",
       "   {'transaction-id': 1008, 'amount': 275},\n",
       "   {'transaction-id': 1337, 'amount': 197},\n",
       "   {'transaction-id': 1900, 'amount': 259},\n",
       "   {'transaction-id': 2200, 'amount': 232},\n",
       "   {'transaction-id': 2411, 'amount': 258},\n",
       "   {'transaction-id': 3068, 'amount': 261},\n",
       "   {'transaction-id': 3091, 'amount': 230},\n",
       "   {'transaction-id': 3445, 'amount': 238},\n",
       "   {'transaction-id': 3826, 'amount': 219},\n",
       "   {'transaction-id': 3855, 'amount': 298},\n",
       "   {'transaction-id': 4033, 'amount': 237},\n",
       "   {'transaction-id': 4203, 'amount': 254},\n",
       "   {'transaction-id': 4379, 'amount': 261},\n",
       "   {'transaction-id': 4794, 'amount': 217},\n",
       "   {'transaction-id': 5412, 'amount': 231},\n",
       "   {'transaction-id': 5921, 'amount': 224},\n",
       "   {'transaction-id': 6031, 'amount': 273},\n",
       "   {'transaction-id': 6284, 'amount': 237},\n",
       "   {'transaction-id': 6821, 'amount': 235},\n",
       "   {'transaction-id': 7007, 'amount': 277},\n",
       "   {'transaction-id': 7400, 'amount': 248},\n",
       "   {'transaction-id': 7526, 'amount': 232},\n",
       "   {'transaction-id': 7920, 'amount': 217},\n",
       "   {'transaction-id': 8693, 'amount': 281},\n",
       "   {'transaction-id': 8844, 'amount': 235},\n",
       "   {'transaction-id': 8872, 'amount': 284},\n",
       "   {'transaction-id': 8951, 'amount': 286},\n",
       "   {'transaction-id': 9042, 'amount': 253},\n",
       "   {'transaction-id': 9663, 'amount': 278},\n",
       "   {'transaction-id': 10439, 'amount': 221},\n",
       "   {'transaction-id': 10911, 'amount': 224},\n",
       "   {'transaction-id': 11055, 'amount': 154},\n",
       "   {'transaction-id': 11273, 'amount': 242},\n",
       "   {'transaction-id': 12393, 'amount': 285},\n",
       "   {'transaction-id': 12601, 'amount': 213},\n",
       "   {'transaction-id': 13168, 'amount': 240},\n",
       "   {'transaction-id': 13624, 'amount': 200},\n",
       "   {'transaction-id': 13924, 'amount': 251},\n",
       "   {'transaction-id': 16288, 'amount': 261},\n",
       "   {'transaction-id': 16643, 'amount': 278},\n",
       "   {'transaction-id': 17902, 'amount': 231},\n",
       "   {'transaction-id': 17947, 'amount': 268},\n",
       "   {'transaction-id': 18248, 'amount': 222},\n",
       "   {'transaction-id': 18748, 'amount': 251},\n",
       "   {'transaction-id': 19619, 'amount': 234},\n",
       "   {'transaction-id': 20351, 'amount': 219},\n",
       "   {'transaction-id': 20401, 'amount': 268},\n",
       "   {'transaction-id': 20580, 'amount': 205},\n",
       "   {'transaction-id': 21078, 'amount': 290},\n",
       "   {'transaction-id': 21128, 'amount': 210},\n",
       "   {'transaction-id': 21522, 'amount': 205},\n",
       "   {'transaction-id': 22515, 'amount': 216},\n",
       "   {'transaction-id': 22617, 'amount': 182},\n",
       "   {'transaction-id': 22890, 'amount': 253},\n",
       "   {'transaction-id': 24509, 'amount': 260},\n",
       "   {'transaction-id': 24777, 'amount': 260},\n",
       "   {'transaction-id': 25094, 'amount': 286},\n",
       "   {'transaction-id': 25156, 'amount': 265},\n",
       "   {'transaction-id': 25388, 'amount': 280},\n",
       "   {'transaction-id': 25585, 'amount': 299},\n",
       "   {'transaction-id': 25679, 'amount': 284},\n",
       "   {'transaction-id': 25769, 'amount': 268},\n",
       "   {'transaction-id': 25942, 'amount': 283},\n",
       "   {'transaction-id': 26050, 'amount': 271},\n",
       "   {'transaction-id': 26607, 'amount': 284},\n",
       "   {'transaction-id': 26640, 'amount': 180},\n",
       "   {'transaction-id': 28147, 'amount': 274},\n",
       "   {'transaction-id': 28490, 'amount': 269},\n",
       "   {'transaction-id': 28914, 'amount': 197},\n",
       "   {'transaction-id': 28959, 'amount': 241},\n",
       "   {'transaction-id': 30496, 'amount': 230},\n",
       "   {'transaction-id': 31092, 'amount': 207},\n",
       "   {'transaction-id': 31357, 'amount': 296},\n",
       "   {'transaction-id': 31863, 'amount': 163},\n",
       "   {'transaction-id': 31934, 'amount': 248},\n",
       "   {'transaction-id': 32210, 'amount': 240},\n",
       "   {'transaction-id': 32375, 'amount': 236},\n",
       "   {'transaction-id': 32849, 'amount': 301},\n",
       "   {'transaction-id': 32961, 'amount': 310},\n",
       "   {'transaction-id': 33474, 'amount': 318},\n",
       "   {'transaction-id': 33699, 'amount': 247},\n",
       "   {'transaction-id': 34324, 'amount': 233},\n",
       "   {'transaction-id': 34576, 'amount': 175},\n",
       "   {'transaction-id': 34698, 'amount': 228},\n",
       "   {'transaction-id': 35191, 'amount': 237},\n",
       "   {'transaction-id': 35762, 'amount': 254},\n",
       "   {'transaction-id': 35784, 'amount': 246},\n",
       "   {'transaction-id': 36200, 'amount': 292},\n",
       "   {'transaction-id': 36664, 'amount': 272},\n",
       "   {'transaction-id': 37405, 'amount': 286},\n",
       "   {'transaction-id': 37586, 'amount': 234},\n",
       "   {'transaction-id': 38192, 'amount': 248},\n",
       "   {'transaction-id': 38343, 'amount': 240},\n",
       "   {'transaction-id': 38383, 'amount': 212},\n",
       "   {'transaction-id': 39065, 'amount': 240},\n",
       "   {'transaction-id': 39173, 'amount': 244},\n",
       "   {'transaction-id': 39991, 'amount': 258},\n",
       "   {'transaction-id': 40088, 'amount': 259},\n",
       "   {'transaction-id': 40309, 'amount': 283},\n",
       "   {'transaction-id': 40538, 'amount': 222},\n",
       "   {'transaction-id': 41573, 'amount': 313},\n",
       "   {'transaction-id': 41651, 'amount': 234},\n",
       "   {'transaction-id': 41977, 'amount': 242},\n",
       "   {'transaction-id': 42092, 'amount': 286},\n",
       "   {'transaction-id': 42151, 'amount': 257},\n",
       "   {'transaction-id': 42726, 'amount': 286},\n",
       "   {'transaction-id': 42809, 'amount': 263},\n",
       "   {'transaction-id': 43432, 'amount': 238},\n",
       "   {'transaction-id': 44011, 'amount': 281},\n",
       "   {'transaction-id': 44640, 'amount': 293},\n",
       "   {'transaction-id': 44673, 'amount': 258},\n",
       "   {'transaction-id': 44861, 'amount': 164},\n",
       "   {'transaction-id': 44982, 'amount': 307},\n",
       "   {'transaction-id': 45061, 'amount': 212},\n",
       "   {'transaction-id': 45349, 'amount': 222},\n",
       "   {'transaction-id': 45448, 'amount': 239},\n",
       "   {'transaction-id': 45833, 'amount': 292},\n",
       "   {'transaction-id': 46145, 'amount': 302},\n",
       "   {'transaction-id': 46831, 'amount': 250},\n",
       "   {'transaction-id': 47060, 'amount': 218},\n",
       "   {'transaction-id': 47337, 'amount': 237},\n",
       "   {'transaction-id': 47376, 'amount': 247},\n",
       "   {'transaction-id': 47412, 'amount': 259},\n",
       "   {'transaction-id': 47647, 'amount': 290},\n",
       "   {'transaction-id': 47922, 'amount': 249},\n",
       "   {'transaction-id': 48452, 'amount': 207},\n",
       "   {'transaction-id': 48478, 'amount': 227},\n",
       "   {'transaction-id': 48531, 'amount': 234},\n",
       "   {'transaction-id': 48618, 'amount': 232},\n",
       "   {'transaction-id': 48698, 'amount': 248},\n",
       "   {'transaction-id': 48976, 'amount': 247},\n",
       "   {'transaction-id': 49284, 'amount': 238},\n",
       "   {'transaction-id': 49827, 'amount': 247},\n",
       "   {'transaction-id': 49880, 'amount': 254},\n",
       "   {'transaction-id': 50093, 'amount': 248},\n",
       "   {'transaction-id': 50294, 'amount': 286},\n",
       "   {'transaction-id': 50908, 'amount': 211},\n",
       "   {'transaction-id': 50953, 'amount': 350},\n",
       "   {'transaction-id': 51026, 'amount': 282},\n",
       "   {'transaction-id': 51219, 'amount': 257},\n",
       "   {'transaction-id': 51646, 'amount': 235},\n",
       "   {'transaction-id': 51909, 'amount': 216},\n",
       "   {'transaction-id': 53577, 'amount': 253},\n",
       "   {'transaction-id': 53634, 'amount': 296},\n",
       "   {'transaction-id': 53744, 'amount': 255},\n",
       "   {'transaction-id': 55092, 'amount': 284},\n",
       "   {'transaction-id': 55212, 'amount': 247},\n",
       "   {'transaction-id': 55395, 'amount': 259},\n",
       "   {'transaction-id': 56199, 'amount': 230},\n",
       "   {'transaction-id': 56273, 'amount': 250},\n",
       "   {'transaction-id': 56437, 'amount': 174},\n",
       "   {'transaction-id': 56683, 'amount': 217},\n",
       "   {'transaction-id': 57642, 'amount': 320},\n",
       "   {'transaction-id': 57773, 'amount': 264},\n",
       "   {'transaction-id': 58103, 'amount': 278},\n",
       "   {'transaction-id': 58159, 'amount': 211},\n",
       "   {'transaction-id': 58354, 'amount': 220},\n",
       "   {'transaction-id': 58717, 'amount': 223},\n",
       "   {'transaction-id': 58875, 'amount': 228},\n",
       "   {'transaction-id': 59027, 'amount': 236},\n",
       "   {'transaction-id': 59206, 'amount': 283},\n",
       "   {'transaction-id': 59259, 'amount': 178},\n",
       "   {'transaction-id': 59446, 'amount': 260},\n",
       "   {'transaction-id': 59515, 'amount': 195},\n",
       "   {'transaction-id': 60231, 'amount': 218},\n",
       "   {'transaction-id': 60527, 'amount': 194},\n",
       "   {'transaction-id': 60634, 'amount': 282},\n",
       "   {'transaction-id': 60705, 'amount': 315},\n",
       "   {'transaction-id': 60947, 'amount': 221},\n",
       "   {'transaction-id': 61447, 'amount': 258},\n",
       "   {'transaction-id': 61578, 'amount': 260},\n",
       "   {'transaction-id': 61934, 'amount': 286},\n",
       "   {'transaction-id': 62217, 'amount': 248},\n",
       "   {'transaction-id': 62541, 'amount': 267},\n",
       "   {'transaction-id': 62893, 'amount': 294},\n",
       "   {'transaction-id': 63510, 'amount': 307},\n",
       "   {'transaction-id': 63818, 'amount': 249},\n",
       "   {'transaction-id': 63963, 'amount': 250},\n",
       "   {'transaction-id': 64213, 'amount': 265},\n",
       "   {'transaction-id': 64251, 'amount': 199},\n",
       "   {'transaction-id': 64379, 'amount': 231},\n",
       "   {'transaction-id': 64737, 'amount': 227},\n",
       "   {'transaction-id': 64791, 'amount': 209},\n",
       "   {'transaction-id': 65827, 'amount': 202},\n",
       "   {'transaction-id': 66871, 'amount': 202},\n",
       "   {'transaction-id': 67143, 'amount': 281},\n",
       "   {'transaction-id': 67516, 'amount': 258},\n",
       "   {'transaction-id': 68557, 'amount': 214},\n",
       "   {'transaction-id': 68777, 'amount': 251},\n",
       "   {'transaction-id': 69438, 'amount': 250},\n",
       "   {'transaction-id': 69576, 'amount': 276},\n",
       "   {'transaction-id': 69687, 'amount': 298},\n",
       "   {'transaction-id': 69806, 'amount': 261},\n",
       "   {'transaction-id': 69830, 'amount': 256},\n",
       "   {'transaction-id': 70118, 'amount': 242},\n",
       "   {'transaction-id': 71371, 'amount': 237},\n",
       "   {'transaction-id': 71528, 'amount': 265},\n",
       "   {'transaction-id': 71547, 'amount': 286},\n",
       "   {'transaction-id': 71643, 'amount': 253},\n",
       "   {'transaction-id': 71832, 'amount': 285},\n",
       "   {'transaction-id': 72557, 'amount': 224},\n",
       "   {'transaction-id': 72567, 'amount': 262},\n",
       "   {'transaction-id': 72643, 'amount': 252},\n",
       "   {'transaction-id': 72830, 'amount': 244},\n",
       "   {'transaction-id': 73105, 'amount': 265},\n",
       "   {'transaction-id': 73584, 'amount': 286},\n",
       "   {'transaction-id': 73923, 'amount': 223},\n",
       "   {'transaction-id': 74818, 'amount': 298},\n",
       "   {'transaction-id': 75197, 'amount': 306},\n",
       "   {'transaction-id': 75340, 'amount': 262},\n",
       "   {'transaction-id': 75487, 'amount': 268},\n",
       "   {'transaction-id': 76412, 'amount': 274},\n",
       "   {'transaction-id': 77083, 'amount': 306},\n",
       "   {'transaction-id': 77802, 'amount': 215},\n",
       "   {'transaction-id': 77988, 'amount': 236},\n",
       "   {'transaction-id': 78239, 'amount': 258},\n",
       "   {'transaction-id': 78352, 'amount': 269},\n",
       "   {'transaction-id': 78895, 'amount': 255},\n",
       "   {'transaction-id': 79163, 'amount': 286},\n",
       "   {'transaction-id': 79324, 'amount': 270},\n",
       "   {'transaction-id': 79362, 'amount': 245},\n",
       "   {'transaction-id': 79400, 'amount': 240},\n",
       "   {'transaction-id': 79414, 'amount': 235},\n",
       "   {'transaction-id': 79581, 'amount': 241},\n",
       "   {'transaction-id': 79716, 'amount': 297},\n",
       "   {'transaction-id': 79770, 'amount': 247},\n",
       "   {'transaction-id': 80091, 'amount': 305},\n",
       "   {'transaction-id': 80356, 'amount': 247},\n",
       "   {'transaction-id': 80997, 'amount': 218},\n",
       "   {'transaction-id': 81014, 'amount': 246},\n",
       "   {'transaction-id': 81331, 'amount': 247},\n",
       "   {'transaction-id': 81889, 'amount': 254},\n",
       "   {'transaction-id': 81910, 'amount': 295},\n",
       "   {'transaction-id': 82147, 'amount': 238},\n",
       "   {'transaction-id': 82464, 'amount': 190},\n",
       "   {'transaction-id': 82503, 'amount': 216},\n",
       "   {'transaction-id': 83401, 'amount': 235},\n",
       "   {'transaction-id': 83453, 'amount': 216},\n",
       "   {'transaction-id': 83916, 'amount': 311},\n",
       "   {'transaction-id': 84066, 'amount': 221},\n",
       "   {'transaction-id': 84111, 'amount': 290},\n",
       "   {'transaction-id': 84175, 'amount': 253},\n",
       "   {'transaction-id': 84443, 'amount': 245},\n",
       "   {'transaction-id': 84468, 'amount': 324},\n",
       "   {'transaction-id': 85064, 'amount': 207},\n",
       "   {'transaction-id': 85304, 'amount': 238},\n",
       "   {'transaction-id': 85545, 'amount': 245},\n",
       "   {'transaction-id': 85787, 'amount': 243},\n",
       "   {'transaction-id': 86733, 'amount': 271},\n",
       "   {'transaction-id': 86793, 'amount': 286},\n",
       "   {'transaction-id': 87419, 'amount': 262},\n",
       "   {'transaction-id': 87718, 'amount': 227},\n",
       "   {'transaction-id': 87830, 'amount': 270},\n",
       "   {'transaction-id': 87913, 'amount': 273},\n",
       "   {'transaction-id': 89391, 'amount': 322},\n",
       "   {'transaction-id': 89550, 'amount': 249},\n",
       "   {'transaction-id': 90589, 'amount': 189},\n",
       "   {'transaction-id': 90596, 'amount': 226},\n",
       "   {'transaction-id': 90662, 'amount': 308},\n",
       "   {'transaction-id': 91273, 'amount': 242},\n",
       "   {'transaction-id': 91310, 'amount': 213},\n",
       "   {'transaction-id': 91608, 'amount': 269},\n",
       "   {'transaction-id': 91708, 'amount': 226},\n",
       "   {'transaction-id': 91881, 'amount': 295},\n",
       "   {'transaction-id': 92386, 'amount': 183},\n",
       "   {'transaction-id': 92629, 'amount': 244},\n",
       "   {'transaction-id': 92636, 'amount': 303},\n",
       "   {'transaction-id': 92909, 'amount': 196},\n",
       "   {'transaction-id': 93803, 'amount': 195},\n",
       "   {'transaction-id': 93836, 'amount': 237},\n",
       "   {'transaction-id': 94199, 'amount': 237},\n",
       "   {'transaction-id': 94334, 'amount': 268},\n",
       "   {'transaction-id': 95157, 'amount': 236},\n",
       "   {'transaction-id': 95598, 'amount': 346},\n",
       "   {'transaction-id': 95617, 'amount': 233},\n",
       "   {'transaction-id': 95778, 'amount': 243},\n",
       "   {'transaction-id': 95909, 'amount': 264},\n",
       "   {'transaction-id': 96257, 'amount': 238},\n",
       "   {'transaction-id': 96398, 'amount': 278},\n",
       "   {'transaction-id': 96806, 'amount': 191},\n",
       "   {'transaction-id': 96830, 'amount': 250},\n",
       "   {'transaction-id': 96871, 'amount': 297},\n",
       "   {'transaction-id': 97104, 'amount': 277},\n",
       "   {'transaction-id': 97178, 'amount': 214},\n",
       "   {'transaction-id': 98008, 'amount': 266},\n",
       "   {'transaction-id': 98848, 'amount': 245},\n",
       "   {'transaction-id': 99057, 'amount': 241},\n",
       "   {'transaction-id': 99956, 'amount': 240}]},\n",
       " {'id': 2,\n",
       "  'name': 'Frank',\n",
       "  'transactions': [{'transaction-id': 567, 'amount': 1852},\n",
       "   {'transaction-id': 931, 'amount': 1888},\n",
       "   {'transaction-id': 1163, 'amount': 1899},\n",
       "   {'transaction-id': 1340, 'amount': 1902},\n",
       "   {'transaction-id': 1512, 'amount': 2027},\n",
       "   {'transaction-id': 1725, 'amount': 1769},\n",
       "   {'transaction-id': 2096, 'amount': 1820},\n",
       "   {'transaction-id': 2143, 'amount': 1863},\n",
       "   {'transaction-id': 2739, 'amount': 1787},\n",
       "   {'transaction-id': 2815, 'amount': 2086},\n",
       "   {'transaction-id': 3190, 'amount': 2018},\n",
       "   {'transaction-id': 3205, 'amount': 1851},\n",
       "   {'transaction-id': 3625, 'amount': 1743},\n",
       "   {'transaction-id': 3642, 'amount': 1898},\n",
       "   {'transaction-id': 3689, 'amount': 1854},\n",
       "   {'transaction-id': 3968, 'amount': 1796},\n",
       "   {'transaction-id': 3975, 'amount': 1860},\n",
       "   {'transaction-id': 4040, 'amount': 1729},\n",
       "   {'transaction-id': 4160, 'amount': 1818},\n",
       "   {'transaction-id': 4349, 'amount': 1726},\n",
       "   {'transaction-id': 5008, 'amount': 1946},\n",
       "   {'transaction-id': 5475, 'amount': 1731},\n",
       "   {'transaction-id': 5681, 'amount': 1757},\n",
       "   {'transaction-id': 5923, 'amount': 1881},\n",
       "   {'transaction-id': 6365, 'amount': 1977},\n",
       "   {'transaction-id': 6442, 'amount': 1846},\n",
       "   {'transaction-id': 6898, 'amount': 1801},\n",
       "   {'transaction-id': 7072, 'amount': 1961},\n",
       "   {'transaction-id': 8424, 'amount': 1683},\n",
       "   {'transaction-id': 8467, 'amount': 1797},\n",
       "   {'transaction-id': 8854, 'amount': 1884},\n",
       "   {'transaction-id': 9147, 'amount': 1776},\n",
       "   {'transaction-id': 9657, 'amount': 1805},\n",
       "   {'transaction-id': 9932, 'amount': 1732},\n",
       "   {'transaction-id': 10109, 'amount': 1836},\n",
       "   {'transaction-id': 10310, 'amount': 1760},\n",
       "   {'transaction-id': 10396, 'amount': 1789},\n",
       "   {'transaction-id': 10566, 'amount': 1757},\n",
       "   {'transaction-id': 10918, 'amount': 1916},\n",
       "   {'transaction-id': 11117, 'amount': 1752},\n",
       "   {'transaction-id': 11166, 'amount': 1809},\n",
       "   {'transaction-id': 11411, 'amount': 1810},\n",
       "   {'transaction-id': 11616, 'amount': 2015},\n",
       "   {'transaction-id': 11701, 'amount': 1925},\n",
       "   {'transaction-id': 12106, 'amount': 2001},\n",
       "   {'transaction-id': 12308, 'amount': 1904},\n",
       "   {'transaction-id': 12567, 'amount': 1824},\n",
       "   {'transaction-id': 12591, 'amount': 1858},\n",
       "   {'transaction-id': 14625, 'amount': 1881},\n",
       "   {'transaction-id': 15426, 'amount': 1750},\n",
       "   {'transaction-id': 16120, 'amount': 1969},\n",
       "   {'transaction-id': 16350, 'amount': 1799},\n",
       "   {'transaction-id': 16422, 'amount': 1917},\n",
       "   {'transaction-id': 17186, 'amount': 1919},\n",
       "   {'transaction-id': 17252, 'amount': 1844},\n",
       "   {'transaction-id': 17294, 'amount': 1923},\n",
       "   {'transaction-id': 17303, 'amount': 2022},\n",
       "   {'transaction-id': 17826, 'amount': 2005},\n",
       "   {'transaction-id': 18091, 'amount': 1809},\n",
       "   {'transaction-id': 18136, 'amount': 1788},\n",
       "   {'transaction-id': 18474, 'amount': 2024},\n",
       "   {'transaction-id': 18596, 'amount': 1799},\n",
       "   {'transaction-id': 18680, 'amount': 1877},\n",
       "   {'transaction-id': 18954, 'amount': 1905},\n",
       "   {'transaction-id': 19614, 'amount': 1699},\n",
       "   {'transaction-id': 19828, 'amount': 1920},\n",
       "   {'transaction-id': 20006, 'amount': 1769},\n",
       "   {'transaction-id': 20164, 'amount': 1987},\n",
       "   {'transaction-id': 20963, 'amount': 1545},\n",
       "   {'transaction-id': 21915, 'amount': 1787},\n",
       "   {'transaction-id': 22237, 'amount': 1835},\n",
       "   {'transaction-id': 22373, 'amount': 1992},\n",
       "   {'transaction-id': 22628, 'amount': 1671},\n",
       "   {'transaction-id': 23103, 'amount': 1894},\n",
       "   {'transaction-id': 23266, 'amount': 1722},\n",
       "   {'transaction-id': 23270, 'amount': 1629},\n",
       "   {'transaction-id': 23308, 'amount': 1878},\n",
       "   {'transaction-id': 23599, 'amount': 1519},\n",
       "   {'transaction-id': 23807, 'amount': 1894},\n",
       "   {'transaction-id': 23953, 'amount': 1785},\n",
       "   {'transaction-id': 24146, 'amount': 2008},\n",
       "   {'transaction-id': 24223, 'amount': 1793},\n",
       "   {'transaction-id': 24740, 'amount': 1981},\n",
       "   {'transaction-id': 24979, 'amount': 1880},\n",
       "   {'transaction-id': 25097, 'amount': 1902},\n",
       "   {'transaction-id': 25261, 'amount': 1889},\n",
       "   {'transaction-id': 25325, 'amount': 1861},\n",
       "   {'transaction-id': 25559, 'amount': 1740},\n",
       "   {'transaction-id': 25876, 'amount': 1763},\n",
       "   {'transaction-id': 26031, 'amount': 1709},\n",
       "   {'transaction-id': 26287, 'amount': 1897},\n",
       "   {'transaction-id': 26960, 'amount': 1885},\n",
       "   {'transaction-id': 27244, 'amount': 1951},\n",
       "   {'transaction-id': 27547, 'amount': 1878},\n",
       "   {'transaction-id': 27623, 'amount': 1804},\n",
       "   {'transaction-id': 27791, 'amount': 1935},\n",
       "   {'transaction-id': 27838, 'amount': 1980},\n",
       "   {'transaction-id': 27977, 'amount': 1740},\n",
       "   {'transaction-id': 29220, 'amount': 1847},\n",
       "   {'transaction-id': 29521, 'amount': 1762},\n",
       "   {'transaction-id': 29544, 'amount': 1833},\n",
       "   {'transaction-id': 29877, 'amount': 1919},\n",
       "   {'transaction-id': 30134, 'amount': 1798},\n",
       "   {'transaction-id': 30745, 'amount': 1878},\n",
       "   {'transaction-id': 31509, 'amount': 1668},\n",
       "   {'transaction-id': 31692, 'amount': 1797},\n",
       "   {'transaction-id': 31813, 'amount': 1634},\n",
       "   {'transaction-id': 32645, 'amount': 1965},\n",
       "   {'transaction-id': 32662, 'amount': 1879},\n",
       "   {'transaction-id': 33045, 'amount': 1872},\n",
       "   {'transaction-id': 33226, 'amount': 1936},\n",
       "   {'transaction-id': 33370, 'amount': 1796},\n",
       "   {'transaction-id': 33439, 'amount': 1969},\n",
       "   {'transaction-id': 34540, 'amount': 1901},\n",
       "   {'transaction-id': 34767, 'amount': 1854},\n",
       "   {'transaction-id': 34990, 'amount': 1941},\n",
       "   {'transaction-id': 35133, 'amount': 1986},\n",
       "   {'transaction-id': 35574, 'amount': 1764},\n",
       "   {'transaction-id': 35647, 'amount': 1924},\n",
       "   {'transaction-id': 36369, 'amount': 2029},\n",
       "   {'transaction-id': 37718, 'amount': 1782},\n",
       "   {'transaction-id': 37737, 'amount': 2148},\n",
       "   {'transaction-id': 38102, 'amount': 1999},\n",
       "   {'transaction-id': 38629, 'amount': 1762},\n",
       "   {'transaction-id': 39901, 'amount': 1677},\n",
       "   {'transaction-id': 40144, 'amount': 2150},\n",
       "   {'transaction-id': 40278, 'amount': 2038},\n",
       "   {'transaction-id': 41614, 'amount': 1829},\n",
       "   {'transaction-id': 41838, 'amount': 1706},\n",
       "   {'transaction-id': 42074, 'amount': 2027},\n",
       "   {'transaction-id': 42312, 'amount': 1863},\n",
       "   {'transaction-id': 42524, 'amount': 1804},\n",
       "   {'transaction-id': 43157, 'amount': 1765},\n",
       "   {'transaction-id': 43384, 'amount': 1837},\n",
       "   {'transaction-id': 43456, 'amount': 1874},\n",
       "   {'transaction-id': 44088, 'amount': 1942},\n",
       "   {'transaction-id': 44302, 'amount': 1929},\n",
       "   {'transaction-id': 44462, 'amount': 1932},\n",
       "   {'transaction-id': 44561, 'amount': 1881},\n",
       "   {'transaction-id': 44664, 'amount': 1901},\n",
       "   {'transaction-id': 45006, 'amount': 1854},\n",
       "   {'transaction-id': 45039, 'amount': 1986},\n",
       "   {'transaction-id': 45071, 'amount': 1812},\n",
       "   {'transaction-id': 45223, 'amount': 1842},\n",
       "   {'transaction-id': 45496, 'amount': 1738},\n",
       "   {'transaction-id': 45795, 'amount': 1958},\n",
       "   {'transaction-id': 46274, 'amount': 1843},\n",
       "   {'transaction-id': 46460, 'amount': 1670},\n",
       "   {'transaction-id': 46736, 'amount': 1949},\n",
       "   {'transaction-id': 46848, 'amount': 1855},\n",
       "   {'transaction-id': 46992, 'amount': 2056},\n",
       "   {'transaction-id': 47069, 'amount': 1956},\n",
       "   {'transaction-id': 47073, 'amount': 1790},\n",
       "   {'transaction-id': 48218, 'amount': 1860},\n",
       "   {'transaction-id': 48220, 'amount': 1919},\n",
       "   {'transaction-id': 48586, 'amount': 1902},\n",
       "   {'transaction-id': 48816, 'amount': 1978},\n",
       "   {'transaction-id': 48821, 'amount': 1880},\n",
       "   {'transaction-id': 48859, 'amount': 1933},\n",
       "   {'transaction-id': 48954, 'amount': 1751},\n",
       "   {'transaction-id': 49363, 'amount': 1797},\n",
       "   {'transaction-id': 49444, 'amount': 2107},\n",
       "   {'transaction-id': 50676, 'amount': 1919},\n",
       "   {'transaction-id': 51008, 'amount': 1769},\n",
       "   {'transaction-id': 51223, 'amount': 1758},\n",
       "   {'transaction-id': 51653, 'amount': 1749},\n",
       "   {'transaction-id': 52355, 'amount': 1855},\n",
       "   {'transaction-id': 52918, 'amount': 1944},\n",
       "   {'transaction-id': 53044, 'amount': 1790},\n",
       "   {'transaction-id': 53598, 'amount': 1828},\n",
       "   {'transaction-id': 53960, 'amount': 1689},\n",
       "   {'transaction-id': 54244, 'amount': 1837},\n",
       "   {'transaction-id': 54399, 'amount': 1677},\n",
       "   {'transaction-id': 55563, 'amount': 1838},\n",
       "   {'transaction-id': 55649, 'amount': 1788},\n",
       "   {'transaction-id': 55864, 'amount': 1916},\n",
       "   {'transaction-id': 55909, 'amount': 1928},\n",
       "   {'transaction-id': 56117, 'amount': 2026},\n",
       "   {'transaction-id': 56289, 'amount': 1843},\n",
       "   {'transaction-id': 56960, 'amount': 2045},\n",
       "   {'transaction-id': 57055, 'amount': 2099},\n",
       "   {'transaction-id': 57397, 'amount': 2020},\n",
       "   {'transaction-id': 57587, 'amount': 1864},\n",
       "   {'transaction-id': 58528, 'amount': 2023},\n",
       "   {'transaction-id': 58780, 'amount': 1851},\n",
       "   {'transaction-id': 59775, 'amount': 1871},\n",
       "   {'transaction-id': 59871, 'amount': 1733},\n",
       "   {'transaction-id': 59880, 'amount': 1973},\n",
       "   {'transaction-id': 60044, 'amount': 1903},\n",
       "   {'transaction-id': 60164, 'amount': 1767},\n",
       "   {'transaction-id': 60283, 'amount': 1989},\n",
       "   {'transaction-id': 60437, 'amount': 1729},\n",
       "   {'transaction-id': 60459, 'amount': 1893},\n",
       "   {'transaction-id': 60814, 'amount': 1932},\n",
       "   {'transaction-id': 60843, 'amount': 1999},\n",
       "   {'transaction-id': 61193, 'amount': 1754},\n",
       "   {'transaction-id': 61302, 'amount': 1864},\n",
       "   {'transaction-id': 61485, 'amount': 2010},\n",
       "   {'transaction-id': 61530, 'amount': 1785},\n",
       "   {'transaction-id': 62127, 'amount': 1749},\n",
       "   {'transaction-id': 62435, 'amount': 1837},\n",
       "   {'transaction-id': 62471, 'amount': 1962},\n",
       "   {'transaction-id': 62665, 'amount': 1830},\n",
       "   {'transaction-id': 62824, 'amount': 1918},\n",
       "   {'transaction-id': 63581, 'amount': 1772},\n",
       "   {'transaction-id': 63599, 'amount': 1790},\n",
       "   {'transaction-id': 63717, 'amount': 1819},\n",
       "   {'transaction-id': 65950, 'amount': 1898},\n",
       "   {'transaction-id': 66305, 'amount': 1786},\n",
       "   {'transaction-id': 66432, 'amount': 2048},\n",
       "   {'transaction-id': 66738, 'amount': 1797},\n",
       "   {'transaction-id': 66780, 'amount': 1883},\n",
       "   {'transaction-id': 67135, 'amount': 1988},\n",
       "   {'transaction-id': 67335, 'amount': 1990},\n",
       "   {'transaction-id': 68118, 'amount': 1886},\n",
       "   {'transaction-id': 68382, 'amount': 1925},\n",
       "   {'transaction-id': 68627, 'amount': 1639},\n",
       "   {'transaction-id': 68737, 'amount': 2026},\n",
       "   {'transaction-id': 69065, 'amount': 1918},\n",
       "   {'transaction-id': 69632, 'amount': 1955},\n",
       "   {'transaction-id': 69740, 'amount': 1999},\n",
       "   {'transaction-id': 70450, 'amount': 1790},\n",
       "   {'transaction-id': 70555, 'amount': 1738},\n",
       "   {'transaction-id': 70877, 'amount': 1962},\n",
       "   {'transaction-id': 71027, 'amount': 2007},\n",
       "   {'transaction-id': 71129, 'amount': 1937},\n",
       "   {'transaction-id': 71615, 'amount': 1805},\n",
       "   {'transaction-id': 71747, 'amount': 1743},\n",
       "   {'transaction-id': 72205, 'amount': 1873},\n",
       "   {'transaction-id': 73136, 'amount': 1838},\n",
       "   {'transaction-id': 73345, 'amount': 1808},\n",
       "   {'transaction-id': 73655, 'amount': 1872},\n",
       "   {'transaction-id': 73788, 'amount': 1919},\n",
       "   {'transaction-id': 74099, 'amount': 1668},\n",
       "   {'transaction-id': 74943, 'amount': 1907},\n",
       "   {'transaction-id': 75486, 'amount': 1822},\n",
       "   {'transaction-id': 75908, 'amount': 1893},\n",
       "   {'transaction-id': 76259, 'amount': 2005},\n",
       "   {'transaction-id': 76907, 'amount': 1742},\n",
       "   {'transaction-id': 77240, 'amount': 1970},\n",
       "   {'transaction-id': 77252, 'amount': 1835},\n",
       "   {'transaction-id': 77492, 'amount': 1921},\n",
       "   {'transaction-id': 77587, 'amount': 1842},\n",
       "   {'transaction-id': 78820, 'amount': 1876},\n",
       "   {'transaction-id': 82233, 'amount': 1981},\n",
       "   {'transaction-id': 82321, 'amount': 1961},\n",
       "   {'transaction-id': 82403, 'amount': 1880},\n",
       "   {'transaction-id': 82540, 'amount': 1859},\n",
       "   {'transaction-id': 82782, 'amount': 1713},\n",
       "   {'transaction-id': 83095, 'amount': 1968},\n",
       "   {'transaction-id': 83539, 'amount': 1867},\n",
       "   {'transaction-id': 84742, 'amount': 1810},\n",
       "   {'transaction-id': 84892, 'amount': 1738},\n",
       "   {'transaction-id': 84902, 'amount': 1904},\n",
       "   {'transaction-id': 84942, 'amount': 1762},\n",
       "   {'transaction-id': 85357, 'amount': 1985},\n",
       "   {'transaction-id': 85417, 'amount': 1903},\n",
       "   {'transaction-id': 85485, 'amount': 1888},\n",
       "   {'transaction-id': 85511, 'amount': 1877},\n",
       "   {'transaction-id': 86017, 'amount': 2022},\n",
       "   {'transaction-id': 86038, 'amount': 1880},\n",
       "   {'transaction-id': 86421, 'amount': 1767},\n",
       "   {'transaction-id': 86436, 'amount': 2005},\n",
       "   {'transaction-id': 86824, 'amount': 1822},\n",
       "   {'transaction-id': 87013, 'amount': 1815},\n",
       "   {'transaction-id': 87126, 'amount': 1728},\n",
       "   {'transaction-id': 87145, 'amount': 1875},\n",
       "   {'transaction-id': 87230, 'amount': 1809},\n",
       "   {'transaction-id': 87683, 'amount': 1936},\n",
       "   {'transaction-id': 88064, 'amount': 1984},\n",
       "   {'transaction-id': 88297, 'amount': 1949},\n",
       "   {'transaction-id': 88554, 'amount': 1936},\n",
       "   {'transaction-id': 88628, 'amount': 1824},\n",
       "   {'transaction-id': 88866, 'amount': 1841},\n",
       "   {'transaction-id': 88945, 'amount': 1732},\n",
       "   {'transaction-id': 89274, 'amount': 1992},\n",
       "   {'transaction-id': 89402, 'amount': 1886},\n",
       "   {'transaction-id': 89676, 'amount': 1825},\n",
       "   {'transaction-id': 91101, 'amount': 1746},\n",
       "   {'transaction-id': 91366, 'amount': 1870},\n",
       "   {'transaction-id': 91389, 'amount': 1870},\n",
       "   {'transaction-id': 91715, 'amount': 1970},\n",
       "   {'transaction-id': 91944, 'amount': 1745},\n",
       "   {'transaction-id': 92094, 'amount': 2091},\n",
       "   {'transaction-id': 92924, 'amount': 1799},\n",
       "   {'transaction-id': 93794, 'amount': 2041},\n",
       "   {'transaction-id': 94218, 'amount': 1971},\n",
       "   {'transaction-id': 94624, 'amount': 1876},\n",
       "   {'transaction-id': 94794, 'amount': 2001},\n",
       "   {'transaction-id': 94833, 'amount': 1784},\n",
       "   {'transaction-id': 94907, 'amount': 2099},\n",
       "   {'transaction-id': 95472, 'amount': 2005},\n",
       "   {'transaction-id': 96114, 'amount': 1792},\n",
       "   {'transaction-id': 96212, 'amount': 1924},\n",
       "   {'transaction-id': 96441, 'amount': 1952},\n",
       "   {'transaction-id': 96559, 'amount': 1730},\n",
       "   {'transaction-id': 96661, 'amount': 2094},\n",
       "   {'transaction-id': 97201, 'amount': 1900},\n",
       "   {'transaction-id': 97634, 'amount': 1681},\n",
       "   {'transaction-id': 97747, 'amount': 1940},\n",
       "   {'transaction-id': 98197, 'amount': 1880},\n",
       "   {'transaction-id': 99455, 'amount': 1956},\n",
       "   {'transaction-id': 99456, 'amount': 1795},\n",
       "   {'transaction-id': 99950, 'amount': 2142}]})"
      ]
     },
     "execution_count": 9,
     "metadata": {},
     "output_type": "execute_result"
    }
   ],
   "source": [
    "import json\n",
    "js = lines.map(json.loads)\n",
    "# take: inspect first few elements\n",
    "js.take(3)"
   ]
  },
  {
   "cell_type": "markdown",
   "metadata": {},
   "source": [
    "### Basic Queries"
   ]
  },
  {
   "cell_type": "markdown",
   "metadata": {},
   "source": [
    "Once we parse our JSON data into proper Python objects (`dict`s, `list`s, etc.) we can perform more interesting queries by creating small Python functions to run on our data."
   ]
  },
  {
   "cell_type": "code",
   "execution_count": null,
   "metadata": {},
   "outputs": [],
   "source": [
    "# filter: keep only some elements of the sequence\n",
    "js.filter(lambda record: record['name'] == 'Alice').take(5)"
   ]
  },
  {
   "cell_type": "code",
   "execution_count": null,
   "metadata": {},
   "outputs": [],
   "source": [
    "def count_transactions(d):\n",
    "    return {'name': d['name'], 'count': len(d['transactions'])}\n",
    "\n",
    "# map: apply a function to each element\n",
    "(js.filter(lambda record: record['name'] == 'Alice')\n",
    "   .map(count_transactions)\n",
    "   .take(5))"
   ]
  },
  {
   "cell_type": "code",
   "execution_count": null,
   "metadata": {},
   "outputs": [],
   "source": [
    "# pluck: select a field, as from a dictionary, element[field]\n",
    "(js.filter(lambda record: record['name'] == 'Alice')\n",
    "   .map(count_transactions)\n",
    "   .pluck('count')\n",
    "   .take(5))"
   ]
  },
  {
   "cell_type": "code",
   "execution_count": null,
   "metadata": {},
   "outputs": [],
   "source": [
    "# Average number of transactions for all of the Alice entries\n",
    "(js.filter(lambda record: record['name'] == 'Alice')\n",
    "   .map(count_transactions)\n",
    "   .pluck('count')\n",
    "   .mean()\n",
    "   .compute())"
   ]
  },
  {
   "cell_type": "markdown",
   "metadata": {},
   "source": [
    "### Use `flatten` to de-nest"
   ]
  },
  {
   "cell_type": "markdown",
   "metadata": {},
   "source": [
    "In the example below we see the use of `.flatten()` to flatten results.  We compute the average amount for all transactions for all Alices."
   ]
  },
  {
   "cell_type": "code",
   "execution_count": null,
   "metadata": {},
   "outputs": [],
   "source": [
    "js.filter(lambda record: record['name'] == 'Alice').pluck('transactions').take(3)"
   ]
  },
  {
   "cell_type": "code",
   "execution_count": null,
   "metadata": {},
   "outputs": [],
   "source": [
    "(js.filter(lambda record: record['name'] == 'Alice')\n",
    "   .pluck('transactions')\n",
    "   .flatten()\n",
    "   .take(3))"
   ]
  },
  {
   "cell_type": "code",
   "execution_count": null,
   "metadata": {},
   "outputs": [],
   "source": [
    "(js.filter(lambda record: record['name'] == 'Alice')\n",
    "   .pluck('transactions')\n",
    "   .flatten()\n",
    "   .pluck('amount')\n",
    "   .take(3))"
   ]
  },
  {
   "cell_type": "code",
   "execution_count": null,
   "metadata": {},
   "outputs": [],
   "source": [
    "(js.filter(lambda record: record['name'] == 'Alice')\n",
    "   .pluck('transactions')\n",
    "   .flatten()\n",
    "   .pluck('amount')\n",
    "   .mean()\n",
    "   .compute())"
   ]
  },
  {
   "cell_type": "markdown",
   "metadata": {},
   "source": [
    "### Groupby and Foldby"
   ]
  },
  {
   "cell_type": "markdown",
   "metadata": {},
   "source": [
    "Often we want to group data by some function or key.  We can do this either with the `.groupby` method, which is straightforward but forces a full shuffle of the data (expensive) or with the harder-to-use but faster `.foldby` method, which does a streaming combined groupby and reduction.\n",
    "\n",
    "*  `groupby`:  Shuffles data so that all items with the same key are in the same key-value pair\n",
    "*  `foldby`:  Walks through the data accumulating a result per key\n",
    "\n",
    "*Note: the full groupby is particularly bad. In actual workloads you would do well to use `foldby` or switch to `DataFrame`s if possible.*"
   ]
  },
  {
   "cell_type": "markdown",
   "metadata": {},
   "source": [
    "### `groupby`"
   ]
  },
  {
   "cell_type": "markdown",
   "metadata": {},
   "source": [
    "Groupby collects items in your collection so that all items with the same value under some function are collected together into a key-value pair."
   ]
  },
  {
   "cell_type": "code",
   "execution_count": null,
   "metadata": {},
   "outputs": [],
   "source": [
    "b = db.from_sequence(['Alice', 'Bob', 'Charlie', 'Dan', 'Edith', 'Frank'])\n",
    "b.groupby(len).compute()  # names grouped by length"
   ]
  },
  {
   "cell_type": "code",
   "execution_count": null,
   "metadata": {},
   "outputs": [],
   "source": [
    "b = db.from_sequence(list(range(10)))\n",
    "b.groupby(lambda x: x % 2).compute()"
   ]
  },
  {
   "cell_type": "code",
   "execution_count": null,
   "metadata": {},
   "outputs": [],
   "source": [
    "b.groupby(lambda x: x % 2).starmap(lambda k, v: (k, max(v))).compute()"
   ]
  },
  {
   "cell_type": "markdown",
   "metadata": {},
   "source": [
    "### `foldby`"
   ]
  },
  {
   "cell_type": "markdown",
   "metadata": {},
   "source": [
    "Foldby can be quite odd at first.  It is similar to the following functions from other libraries:\n",
    "\n",
    "*  [`toolz.reduceby`](http://toolz.readthedocs.io/en/latest/streaming-analytics.html#streaming-split-apply-combine)\n",
    "*  [`pyspark.RDD.combineByKey`](http://abshinn.github.io/python/apache-spark/2014/10/11/using-combinebykey-in-apache-spark/)\n",
    "\n",
    "When using `foldby` you provide \n",
    "\n",
    "1.  A key function on which to group elements\n",
    "2.  A binary operator such as you would pass to `reduce` that you use to perform reduction per each group\n",
    "3.  A combine binary operator that can combine the results of two `reduce` calls on different parts of your dataset.\n",
    "\n",
    "Your reduction must be associative.  It will happen in parallel in each of the partitions of your dataset.  Then all of these intermediate results will be combined by the `combine` binary operator."
   ]
  },
  {
   "cell_type": "code",
   "execution_count": null,
   "metadata": {},
   "outputs": [],
   "source": [
    "is_even = lambda x: x % 2\n",
    "b.foldby(is_even, binop=max, combine=max).compute()"
   ]
  },
  {
   "cell_type": "markdown",
   "metadata": {},
   "source": [
    "### Example with account data"
   ]
  },
  {
   "cell_type": "markdown",
   "metadata": {},
   "source": [
    "We find the number of people with the same name."
   ]
  },
  {
   "cell_type": "code",
   "execution_count": null,
   "metadata": {},
   "outputs": [],
   "source": [
    "%%time\n",
    "# Warning, this one takes a while...\n",
    "result = js.groupby(lambda item: item['name']).starmap(lambda k, v: (k, len(v))).compute()\n",
    "print(sorted(result))"
   ]
  },
  {
   "cell_type": "code",
   "execution_count": null,
   "metadata": {},
   "outputs": [],
   "source": [
    "%%time\n",
    "# This one is comparatively fast and produces the same result.\n",
    "from operator import add\n",
    "def incr(tot, _):\n",
    "    return tot+1\n",
    "\n",
    "result = js.foldby(key='name', \n",
    "                   binop=incr, \n",
    "                   initial=0, \n",
    "                   combine=add, \n",
    "                   combine_initial=0).compute()\n",
    "print(sorted(result))"
   ]
  },
  {
   "cell_type": "markdown",
   "metadata": {},
   "source": [
    "### Exercise: compute total amount per name"
   ]
  },
  {
   "cell_type": "markdown",
   "metadata": {},
   "source": [
    "We want to groupby (or foldby) the `name` key, then add up the all of the amounts for each name.\n",
    "\n",
    "Steps\n",
    "\n",
    "1.  Create a small function that, given a dictionary like \n",
    "\n",
    "        {'name': 'Alice', 'transactions': [{'amount': 1, 'id': 123}, {'amount': 2, 'id': 456}]}\n",
    "        \n",
    "    produces the sum of the amounts, e.g. `3`\n",
    "    \n",
    "2.  Slightly change the binary operator of the `foldby` example above so that the binary operator doesn't count the number of entries, but instead accumulates the sum of the amounts."
   ]
  },
  {
   "cell_type": "code",
   "execution_count": null,
   "metadata": {},
   "outputs": [],
   "source": [
    "# Your code here..."
   ]
  },
  {
   "cell_type": "markdown",
   "metadata": {},
   "source": [
    "## DataFrames"
   ]
  },
  {
   "cell_type": "markdown",
   "metadata": {},
   "source": [
    "For the same reasons that Pandas is often faster than pure Python, `dask.dataframe` can be faster than `dask.bag`.  We will work more with DataFrames later, but from for the bag point of view, they are frequently the end-point of the \"messy\" part of data ingestion—once the data can be made into a data-frame, then complex split-apply-combine logic will become much more straight-forward and efficient.\n",
    "\n",
    "You can transform a bag with a simple tuple or flat dictionary structure into a `dask.dataframe` with the `to_dataframe` method."
   ]
  },
  {
   "cell_type": "code",
   "execution_count": null,
   "metadata": {},
   "outputs": [],
   "source": [
    "df1 = js.to_dataframe()\n",
    "df1.head()"
   ]
  },
  {
   "cell_type": "markdown",
   "metadata": {},
   "source": [
    "This now looks like a well-defined DataFrame, and we can apply Pandas-like computations to it efficiently."
   ]
  },
  {
   "cell_type": "markdown",
   "metadata": {},
   "source": [
    "Using a Dask DataFrame, how long does it take to do our prior computation of numbers of people with the same name?  It turns out that `dask.dataframe.groupby()` beats `dask.bag.groupby()` more than an order of magnitude; but it still cannot match `dask.bag.foldby()` for this case."
   ]
  },
  {
   "cell_type": "code",
   "execution_count": null,
   "metadata": {},
   "outputs": [],
   "source": [
    "%time df1.groupby('name').id.count().compute().head()"
   ]
  },
  {
   "cell_type": "markdown",
   "metadata": {},
   "source": [
    "### Denormalization"
   ]
  },
  {
   "cell_type": "markdown",
   "metadata": {},
   "source": [
    "This DataFrame format is less-than-optimal because the `transactions` column is filled with nested data so Pandas has to revert to `object` dtype, which is quite slow in Pandas.  Ideally we want to transform to a dataframe only after we have flattened our data so that each record is a single `int`, `string`, `float`, etc.."
   ]
  },
  {
   "cell_type": "code",
   "execution_count": null,
   "metadata": {},
   "outputs": [],
   "source": [
    "def denormalize(record):\n",
    "    # returns a list for every nested item, each transaction of each person\n",
    "    return [{'id': record['id'], \n",
    "             'name': record['name'], \n",
    "             'amount': transaction['amount'], \n",
    "             'transaction-id': transaction['transaction-id']}\n",
    "            for transaction in record['transactions']]\n",
    "\n",
    "transactions = js.map(denormalize).flatten()\n",
    "transactions.take(3)"
   ]
  },
  {
   "cell_type": "code",
   "execution_count": null,
   "metadata": {},
   "outputs": [],
   "source": [
    "df = transactions.to_dataframe()\n",
    "df.head()"
   ]
  },
  {
   "cell_type": "code",
   "execution_count": null,
   "metadata": {},
   "outputs": [],
   "source": [
    "%%time\n",
    "# number of transactions per name\n",
    "# note that the time here includes the data load and ingestion\n",
    "df.groupby('name')['transaction-id'].count().compute()"
   ]
  },
  {
   "cell_type": "markdown",
   "metadata": {},
   "source": [
    "## Limitations"
   ]
  },
  {
   "cell_type": "markdown",
   "metadata": {},
   "source": [
    "Bags provide very general computation (any Python function.)  This generality\n",
    "comes at cost.  Bags have the following known limitations\n",
    "\n",
    "1.  Bag operations tend to be slower than array/dataframe computations in the\n",
    "    same way that Python tends to be slower than NumPy/Pandas\n",
    "2.  ``Bag.groupby`` is slow.  You should try to use ``Bag.foldby`` if possible.\n",
    "    Using ``Bag.foldby`` requires more thought. Even better, consider creating\n",
    "    a normalised dataframe."
   ]
  },
  {
   "cell_type": "markdown",
   "metadata": {},
   "source": [
    "## Learn More\n",
    "\n",
    "* [Bag documentation](https://docs.dask.org/en/latest/bag.html)\n",
    "* [Bag screencast](https://youtu.be/-qIiJ1XtSv0)\n",
    "* [Bag API](https://docs.dask.org/en/latest/bag-api.html)\n",
    "* [Bag examples](https://examples.dask.org/bag.html)"
   ]
  },
  {
   "cell_type": "markdown",
   "metadata": {},
   "source": [
    "## Shutdown"
   ]
  },
  {
   "cell_type": "code",
   "execution_count": null,
   "metadata": {},
   "outputs": [],
   "source": [
    "client.shutdown()"
   ]
  },
  {
   "cell_type": "code",
   "execution_count": null,
   "metadata": {},
   "outputs": [],
   "source": []
  }
 ],
 "metadata": {
  "anaconda-cloud": {},
  "kernelspec": {
   "display_name": "Python 3",
   "language": "python",
   "name": "python3"
  },
  "language_info": {
   "codemirror_mode": {
    "name": "ipython",
    "version": 3
   },
   "file_extension": ".py",
   "mimetype": "text/x-python",
   "name": "python",
   "nbconvert_exporter": "python",
   "pygments_lexer": "ipython3",
   "version": "3.7.6"
  }
 },
 "nbformat": 4,
 "nbformat_minor": 4
}
